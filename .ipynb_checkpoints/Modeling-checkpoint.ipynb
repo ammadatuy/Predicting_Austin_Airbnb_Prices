{
 "cells": [
  {
   "cell_type": "markdown",
   "metadata": {},
   "source": [
    "# MODELING METHODS"
   ]
  },
  {
   "cell_type": "markdown",
   "metadata": {},
   "source": [
    "Since predicting Airbnb rental price is a continuous outcome, I will use regression modeling. First I will create a linear regression model predicting price with all of the predictor variables and use this as my baseline model to compare other models against. The other models I will use are Ridege, LASSO, Random Forest, SVM and Gradient Boosting.\n",
    "\n",
    "I will evaluate and compare the performace of the models using two different metrics, Root Mean Squared Error (RMSE) and R-squared. RMSE measures the magnitude of the residuals or margin of error. R-squared measures the proportion of variance for the target variable that is explained by the independent variables. Ideally, lower RSME (closer to zero) and higher R-squared (closer to 1) values are indicative of a good model.\n",
    "\n",
    "Before diving into modeling, I will prepare the data. "
   ]
  },
  {
   "cell_type": "markdown",
   "metadata": {},
   "source": [
    "# DATA PREPARATION"
   ]
  },
  {
   "cell_type": "code",
   "execution_count": 315,
   "metadata": {},
   "outputs": [
    {
     "data": {
      "text/html": [
       "        <script type=\"text/javascript\">\n",
       "        window.PlotlyConfig = {MathJaxConfig: 'local'};\n",
       "        if (window.MathJax) {MathJax.Hub.Config({SVG: {font: \"STIX-Web\"}});}\n",
       "        if (typeof require !== 'undefined') {\n",
       "        require.undef(\"plotly\");\n",
       "        requirejs.config({\n",
       "            paths: {\n",
       "                'plotly': ['https://cdn.plot.ly/plotly-latest.min']\n",
       "            }\n",
       "        });\n",
       "        require(['plotly'], function(Plotly) {\n",
       "            window._Plotly = Plotly;\n",
       "        });\n",
       "        }\n",
       "        </script>\n",
       "        "
      ]
     },
     "metadata": {},
     "output_type": "display_data"
    },
    {
     "data": {
      "text/html": [
       "        <script type=\"text/javascript\">\n",
       "        window.PlotlyConfig = {MathJaxConfig: 'local'};\n",
       "        if (window.MathJax) {MathJax.Hub.Config({SVG: {font: \"STIX-Web\"}});}\n",
       "        if (typeof require !== 'undefined') {\n",
       "        require.undef(\"plotly\");\n",
       "        requirejs.config({\n",
       "            paths: {\n",
       "                'plotly': ['https://cdn.plot.ly/plotly-latest.min']\n",
       "            }\n",
       "        });\n",
       "        require(['plotly'], function(Plotly) {\n",
       "            window._Plotly = Plotly;\n",
       "        });\n",
       "        }\n",
       "        </script>\n",
       "        "
      ]
     },
     "metadata": {},
     "output_type": "display_data"
    }
   ],
   "source": [
    "# Load the required libraries and modules\n",
    "%matplotlib inline \n",
    "\n",
    "import timeit\n",
    "import matplotlib.pyplot as plt\n",
    "import numpy as np\n",
    "import pandas as pd\n",
    "import cufflinks as cf\n",
    "import plotly\n",
    "from plotly.offline import download_plotlyjs, init_notebook_mode, plot, iplot\n",
    "import plotly.graph_objs as go\n",
    "init_notebook_mode(connected=True)\n",
    "cf.go_offline()\n",
    "\n",
    "from sklearn.linear_model import LinearRegression, Lasso, Ridge\n",
    "from sklearn.ensemble import RandomForestRegressor, GradientBoostingRegressor\n",
    "from sklearn.svm import SVR\n",
    "from sklearn.preprocessing import StandardScaler, MinMaxScaler\n",
    "from sklearn.metrics import mean_squared_error, r2_score\n",
    "from sklearn.model_selection import GridSearchCV, RandomizedSearchCV, train_test_split\n",
    "from sklearn.model_selection import cross_val_score, cross_val_predict, cross_validate\n",
    "from sklearn.utils import shuffle\n",
    "\n",
    "import matplotlib.pyplot as plt\n",
    "import statsmodels.api as sm\n",
    "from statsmodels.formula.api import ols\n",
    "\n",
    "import warnings\n",
    "warnings.filterwarnings(\"ignore\")"
   ]
  },
  {
   "cell_type": "code",
   "execution_count": 316,
   "metadata": {
    "scrolled": false
   },
   "outputs": [
    {
     "data": {
      "text/html": [
       "<div>\n",
       "<style scoped>\n",
       "    .dataframe tbody tr th:only-of-type {\n",
       "        vertical-align: middle;\n",
       "    }\n",
       "\n",
       "    .dataframe tbody tr th {\n",
       "        vertical-align: top;\n",
       "    }\n",
       "\n",
       "    .dataframe thead th {\n",
       "        text-align: right;\n",
       "    }\n",
       "</style>\n",
       "<table border=\"1\" class=\"dataframe\">\n",
       "  <thead>\n",
       "    <tr style=\"text-align: right;\">\n",
       "      <th></th>\n",
       "      <th>listing_id</th>\n",
       "      <th>zip_code</th>\n",
       "      <th>latitude</th>\n",
       "      <th>longitude</th>\n",
       "      <th>room_type</th>\n",
       "      <th>accommodates</th>\n",
       "      <th>bathrooms</th>\n",
       "      <th>bedrooms</th>\n",
       "      <th>beds</th>\n",
       "      <th>price</th>\n",
       "      <th>minimum_nights</th>\n",
       "      <th>number_of_reviews</th>\n",
       "      <th>review_scores_rating</th>\n",
       "      <th>neighbourhood</th>\n",
       "      <th>number_of_bookings</th>\n",
       "      <th>bedroom_bath_ratio</th>\n",
       "    </tr>\n",
       "  </thead>\n",
       "  <tbody>\n",
       "    <tr>\n",
       "      <td>0</td>\n",
       "      <td>2265</td>\n",
       "      <td>78702</td>\n",
       "      <td>30.27750</td>\n",
       "      <td>-97.71398</td>\n",
       "      <td>Entire home/apt</td>\n",
       "      <td>4</td>\n",
       "      <td>2.0</td>\n",
       "      <td>2.0</td>\n",
       "      <td>2.0</td>\n",
       "      <td>225.0</td>\n",
       "      <td>30</td>\n",
       "      <td>24</td>\n",
       "      <td>93.0</td>\n",
       "      <td>East Downtown</td>\n",
       "      <td>365.0</td>\n",
       "      <td>100.0</td>\n",
       "    </tr>\n",
       "    <tr>\n",
       "      <td>1</td>\n",
       "      <td>5245</td>\n",
       "      <td>78702</td>\n",
       "      <td>30.27577</td>\n",
       "      <td>-97.71379</td>\n",
       "      <td>Private room</td>\n",
       "      <td>2</td>\n",
       "      <td>1.0</td>\n",
       "      <td>1.0</td>\n",
       "      <td>2.0</td>\n",
       "      <td>100.0</td>\n",
       "      <td>30</td>\n",
       "      <td>9</td>\n",
       "      <td>91.0</td>\n",
       "      <td>East Downtown</td>\n",
       "      <td>354.0</td>\n",
       "      <td>100.0</td>\n",
       "    </tr>\n",
       "    <tr>\n",
       "      <td>2</td>\n",
       "      <td>5456</td>\n",
       "      <td>78702</td>\n",
       "      <td>30.26112</td>\n",
       "      <td>-97.73448</td>\n",
       "      <td>Entire home/apt</td>\n",
       "      <td>3</td>\n",
       "      <td>1.0</td>\n",
       "      <td>1.0</td>\n",
       "      <td>2.0</td>\n",
       "      <td>95.0</td>\n",
       "      <td>2</td>\n",
       "      <td>499</td>\n",
       "      <td>96.0</td>\n",
       "      <td>East Downtown</td>\n",
       "      <td>74.0</td>\n",
       "      <td>100.0</td>\n",
       "    </tr>\n",
       "    <tr>\n",
       "      <td>3</td>\n",
       "      <td>75174</td>\n",
       "      <td>78702</td>\n",
       "      <td>30.24773</td>\n",
       "      <td>-97.72584</td>\n",
       "      <td>Entire home/apt</td>\n",
       "      <td>3</td>\n",
       "      <td>1.0</td>\n",
       "      <td>1.0</td>\n",
       "      <td>1.0</td>\n",
       "      <td>130.0</td>\n",
       "      <td>2</td>\n",
       "      <td>249</td>\n",
       "      <td>98.0</td>\n",
       "      <td>East Downtown</td>\n",
       "      <td>131.0</td>\n",
       "      <td>100.0</td>\n",
       "    </tr>\n",
       "    <tr>\n",
       "      <td>4</td>\n",
       "      <td>76911</td>\n",
       "      <td>78702</td>\n",
       "      <td>30.26775</td>\n",
       "      <td>-97.72695</td>\n",
       "      <td>Entire home/apt</td>\n",
       "      <td>10</td>\n",
       "      <td>3.0</td>\n",
       "      <td>5.0</td>\n",
       "      <td>12.0</td>\n",
       "      <td>821.0</td>\n",
       "      <td>2</td>\n",
       "      <td>126</td>\n",
       "      <td>99.0</td>\n",
       "      <td>East Downtown</td>\n",
       "      <td>56.0</td>\n",
       "      <td>60.0</td>\n",
       "    </tr>\n",
       "  </tbody>\n",
       "</table>\n",
       "</div>"
      ],
      "text/plain": [
       "   listing_id  zip_code  latitude  longitude        room_type  accommodates  \\\n",
       "0        2265     78702  30.27750  -97.71398  Entire home/apt             4   \n",
       "1        5245     78702  30.27577  -97.71379     Private room             2   \n",
       "2        5456     78702  30.26112  -97.73448  Entire home/apt             3   \n",
       "3       75174     78702  30.24773  -97.72584  Entire home/apt             3   \n",
       "4       76911     78702  30.26775  -97.72695  Entire home/apt            10   \n",
       "\n",
       "   bathrooms  bedrooms  beds  price  minimum_nights  number_of_reviews  \\\n",
       "0        2.0       2.0   2.0  225.0              30                 24   \n",
       "1        1.0       1.0   2.0  100.0              30                  9   \n",
       "2        1.0       1.0   2.0   95.0               2                499   \n",
       "3        1.0       1.0   1.0  130.0               2                249   \n",
       "4        3.0       5.0  12.0  821.0               2                126   \n",
       "\n",
       "   review_scores_rating  neighbourhood  number_of_bookings  bedroom_bath_ratio  \n",
       "0                  93.0  East Downtown               365.0               100.0  \n",
       "1                  91.0  East Downtown               354.0               100.0  \n",
       "2                  96.0  East Downtown                74.0               100.0  \n",
       "3                  98.0  East Downtown               131.0               100.0  \n",
       "4                  99.0  East Downtown                56.0                60.0  "
      ]
     },
     "execution_count": 316,
     "metadata": {},
     "output_type": "execute_result"
    }
   ],
   "source": [
    "# Read in the CSV file\n",
    "df = pd.read_csv('Data/airbnb_clean.csv')\n",
    "df.head()"
   ]
  },
  {
   "cell_type": "markdown",
   "metadata": {},
   "source": [
    "To ease the prediction of price, the distribution should be normally distributed. From prior exploratory data analysis and statistical inference, I observed that the data was heavily skewed to the right which means it is not normally distributed. I will transform price to log10."
   ]
  },
  {
   "cell_type": "code",
   "execution_count": 317,
   "metadata": {},
   "outputs": [],
   "source": [
    "# Convert raw price column to log\n",
    "df['price'] = np.log10(df.price)"
   ]
  },
  {
   "cell_type": "markdown",
   "metadata": {},
   "source": [
    "I will drop some columns that I don't think I need in the modeling. These columns are the listing id, zip code, latitude and longitude."
   ]
  },
  {
   "cell_type": "code",
   "execution_count": 318,
   "metadata": {},
   "outputs": [],
   "source": [
    "# Drop columns\n",
    "drop_cols = ['listing_id', 'zip_code', 'latitude', 'longitude']\n",
    "df.drop(columns=drop_cols, axis=1, inplace=True)"
   ]
  },
  {
   "cell_type": "code",
   "execution_count": 319,
   "metadata": {
    "scrolled": true
   },
   "outputs": [
    {
     "data": {
      "text/html": [
       "<div>\n",
       "<style scoped>\n",
       "    .dataframe tbody tr th:only-of-type {\n",
       "        vertical-align: middle;\n",
       "    }\n",
       "\n",
       "    .dataframe tbody tr th {\n",
       "        vertical-align: top;\n",
       "    }\n",
       "\n",
       "    .dataframe thead th {\n",
       "        text-align: right;\n",
       "    }\n",
       "</style>\n",
       "<table border=\"1\" class=\"dataframe\">\n",
       "  <thead>\n",
       "    <tr style=\"text-align: right;\">\n",
       "      <th></th>\n",
       "      <th>room_type</th>\n",
       "      <th>accommodates</th>\n",
       "      <th>bathrooms</th>\n",
       "      <th>bedrooms</th>\n",
       "      <th>beds</th>\n",
       "      <th>price</th>\n",
       "      <th>minimum_nights</th>\n",
       "      <th>number_of_reviews</th>\n",
       "      <th>review_scores_rating</th>\n",
       "      <th>neighbourhood</th>\n",
       "      <th>number_of_bookings</th>\n",
       "      <th>bedroom_bath_ratio</th>\n",
       "    </tr>\n",
       "  </thead>\n",
       "  <tbody>\n",
       "    <tr>\n",
       "      <td>0</td>\n",
       "      <td>Entire home/apt</td>\n",
       "      <td>4</td>\n",
       "      <td>2.0</td>\n",
       "      <td>2.0</td>\n",
       "      <td>2.0</td>\n",
       "      <td>2.352183</td>\n",
       "      <td>30</td>\n",
       "      <td>24</td>\n",
       "      <td>93.0</td>\n",
       "      <td>East Downtown</td>\n",
       "      <td>365.0</td>\n",
       "      <td>100.0</td>\n",
       "    </tr>\n",
       "    <tr>\n",
       "      <td>1</td>\n",
       "      <td>Private room</td>\n",
       "      <td>2</td>\n",
       "      <td>1.0</td>\n",
       "      <td>1.0</td>\n",
       "      <td>2.0</td>\n",
       "      <td>2.000000</td>\n",
       "      <td>30</td>\n",
       "      <td>9</td>\n",
       "      <td>91.0</td>\n",
       "      <td>East Downtown</td>\n",
       "      <td>354.0</td>\n",
       "      <td>100.0</td>\n",
       "    </tr>\n",
       "    <tr>\n",
       "      <td>2</td>\n",
       "      <td>Entire home/apt</td>\n",
       "      <td>3</td>\n",
       "      <td>1.0</td>\n",
       "      <td>1.0</td>\n",
       "      <td>2.0</td>\n",
       "      <td>1.977724</td>\n",
       "      <td>2</td>\n",
       "      <td>499</td>\n",
       "      <td>96.0</td>\n",
       "      <td>East Downtown</td>\n",
       "      <td>74.0</td>\n",
       "      <td>100.0</td>\n",
       "    </tr>\n",
       "    <tr>\n",
       "      <td>3</td>\n",
       "      <td>Entire home/apt</td>\n",
       "      <td>3</td>\n",
       "      <td>1.0</td>\n",
       "      <td>1.0</td>\n",
       "      <td>1.0</td>\n",
       "      <td>2.113943</td>\n",
       "      <td>2</td>\n",
       "      <td>249</td>\n",
       "      <td>98.0</td>\n",
       "      <td>East Downtown</td>\n",
       "      <td>131.0</td>\n",
       "      <td>100.0</td>\n",
       "    </tr>\n",
       "    <tr>\n",
       "      <td>4</td>\n",
       "      <td>Entire home/apt</td>\n",
       "      <td>10</td>\n",
       "      <td>3.0</td>\n",
       "      <td>5.0</td>\n",
       "      <td>12.0</td>\n",
       "      <td>2.914343</td>\n",
       "      <td>2</td>\n",
       "      <td>126</td>\n",
       "      <td>99.0</td>\n",
       "      <td>East Downtown</td>\n",
       "      <td>56.0</td>\n",
       "      <td>60.0</td>\n",
       "    </tr>\n",
       "  </tbody>\n",
       "</table>\n",
       "</div>"
      ],
      "text/plain": [
       "         room_type  accommodates  bathrooms  bedrooms  beds     price  \\\n",
       "0  Entire home/apt             4        2.0       2.0   2.0  2.352183   \n",
       "1     Private room             2        1.0       1.0   2.0  2.000000   \n",
       "2  Entire home/apt             3        1.0       1.0   2.0  1.977724   \n",
       "3  Entire home/apt             3        1.0       1.0   1.0  2.113943   \n",
       "4  Entire home/apt            10        3.0       5.0  12.0  2.914343   \n",
       "\n",
       "   minimum_nights  number_of_reviews  review_scores_rating  neighbourhood  \\\n",
       "0              30                 24                  93.0  East Downtown   \n",
       "1              30                  9                  91.0  East Downtown   \n",
       "2               2                499                  96.0  East Downtown   \n",
       "3               2                249                  98.0  East Downtown   \n",
       "4               2                126                  99.0  East Downtown   \n",
       "\n",
       "   number_of_bookings  bedroom_bath_ratio  \n",
       "0               365.0               100.0  \n",
       "1               354.0               100.0  \n",
       "2                74.0               100.0  \n",
       "3               131.0               100.0  \n",
       "4                56.0                60.0  "
      ]
     },
     "execution_count": 319,
     "metadata": {},
     "output_type": "execute_result"
    }
   ],
   "source": [
    "# Inspect new df\n",
    "df.head()"
   ]
  },
  {
   "cell_type": "markdown",
   "metadata": {},
   "source": [
    "The regression models I will be using can not handle categorical variables unless I convert them to numerical values. There are two categorical variables in the data, room_type and neighbourhood. I will use the one hot encoding method to map each category to a vector that contains 1 and 0, denoting the presence or absence of that variable. "
   ]
  },
  {
   "cell_type": "code",
   "execution_count": 320,
   "metadata": {
    "scrolled": false
   },
   "outputs": [
    {
     "name": "stdout",
     "output_type": "stream",
     "text": [
      "<class 'pandas.core.frame.DataFrame'>\n",
      "RangeIndex: 11333 entries, 0 to 11332\n",
      "Data columns (total 44 columns):\n",
      "accommodates                                11333 non-null int64\n",
      "bathrooms                                   11333 non-null float64\n",
      "bedrooms                                    11333 non-null float64\n",
      "beds                                        11333 non-null float64\n",
      "price                                       11333 non-null float64\n",
      "minimum_nights                              11333 non-null int64\n",
      "number_of_reviews                           11333 non-null int64\n",
      "review_scores_rating                        11333 non-null float64\n",
      "number_of_bookings                          11333 non-null float64\n",
      "bedroom_bath_ratio                          11333 non-null float64\n",
      "room_type_Hotel room                        11333 non-null uint8\n",
      "room_type_Private room                      11333 non-null uint8\n",
      "room_type_Shared room                       11333 non-null uint8\n",
      "neighbourhood_Balcones Civic Association    11333 non-null uint8\n",
      "neighbourhood_Barton Creek                  11333 non-null uint8\n",
      "neighbourhood_Brentwood                     11333 non-null uint8\n",
      "neighbourhood_Cherry Creek                  11333 non-null uint8\n",
      "neighbourhood_Circle C                      11333 non-null uint8\n",
      "neighbourhood_Copperfield                   11333 non-null uint8\n",
      "neighbourhood_Crestview                     11333 non-null uint8\n",
      "neighbourhood_Downtown                      11333 non-null uint8\n",
      "neighbourhood_East Downtown                 11333 non-null uint8\n",
      "neighbourhood_East Riverside                11333 non-null uint8\n",
      "neighbourhood_Gracywoods                    11333 non-null uint8\n",
      "neighbourhood_Highland                      11333 non-null uint8\n",
      "neighbourhood_Lamplight Village             11333 non-null uint8\n",
      "neighbourhood_Long Canyon                   11333 non-null uint8\n",
      "neighbourhood_MLK & 183                     11333 non-null uint8\n",
      "neighbourhood_McKinney                      11333 non-null uint8\n",
      "neighbourhood_Montopolis                    11333 non-null uint8\n",
      "neighbourhood_Mueller                       11333 non-null uint8\n",
      "neighbourhood_North Loop                    11333 non-null uint8\n",
      "neighbourhood_Northwest Hills               11333 non-null uint8\n",
      "neighbourhood_Oak Hill                      11333 non-null uint8\n",
      "neighbourhood_Old West Austin               11333 non-null uint8\n",
      "neighbourhood_SW Williamson Co.             11333 non-null uint8\n",
      "neighbourhood_Scofield Ridge                11333 non-null uint8\n",
      "neighbourhood_South Manchaca                11333 non-null uint8\n",
      "neighbourhood_Steiner Ranch                 11333 non-null uint8\n",
      "neighbourhood_Travis Heights                11333 non-null uint8\n",
      "neighbourhood_University Hills              11333 non-null uint8\n",
      "neighbourhood_University of Texas           11333 non-null uint8\n",
      "neighbourhood_Upper Boggy Creek             11333 non-null uint8\n",
      "neighbourhood_Westlake Hills                11333 non-null uint8\n",
      "dtypes: float64(7), int64(3), uint8(34)\n",
      "memory usage: 1.2 MB\n"
     ]
    }
   ],
   "source": [
    "# Perform get_dummies to encode categorical variables\n",
    "df = pd.get_dummies(df, columns=['room_type', 'neighbourhood'], drop_first=True)\n",
    "\n",
    "# Confirm that only numeric variables remain\n",
    "df.info()"
   ]
  },
  {
   "cell_type": "markdown",
   "metadata": {},
   "source": [
    "My next step is to create arrays of the dependent target (y) and independent predictor (X) variables."
   ]
  },
  {
   "cell_type": "code",
   "execution_count": 321,
   "metadata": {},
   "outputs": [],
   "source": [
    "# Split data into target and predictors \n",
    "y = df.price.values\n",
    "X = df.drop('price', axis = 1).values"
   ]
  },
  {
   "cell_type": "markdown",
   "metadata": {},
   "source": [
    "The numeric variables need to be scaled for more uniform and fair influence for all weights."
   ]
  },
  {
   "cell_type": "code",
   "execution_count": 322,
   "metadata": {},
   "outputs": [],
   "source": [
    "# Transform the depdendent variables\n",
    "scaler = StandardScaler()\n",
    "scaler.fit(X)\n",
    "X = scaler.transform(X)"
   ]
  },
  {
   "cell_type": "markdown",
   "metadata": {},
   "source": [
    "I will initialize an array for the MSE and R-squared scores because I will be using both for evaluation throughout this notebook. MSE will be converted to RMSE for comparison. "
   ]
  },
  {
   "cell_type": "code",
   "execution_count": 323,
   "metadata": {},
   "outputs": [],
   "source": [
    "# Array for mean squared error and R-squared \n",
    "scoring = ['neg_mean_squared_error', 'r2']"
   ]
  },
  {
   "cell_type": "markdown",
   "metadata": {},
   "source": [
    "# LINEAR REGRESSION"
   ]
  },
  {
   "cell_type": "code",
   "execution_count": 324,
   "metadata": {},
   "outputs": [],
   "source": [
    "# Shuffle the data \n",
    "X, y = shuffle(X, y)"
   ]
  },
  {
   "cell_type": "code",
   "execution_count": 325,
   "metadata": {
    "scrolled": true
   },
   "outputs": [
    {
     "name": "stderr",
     "output_type": "stream",
     "text": [
      "[Parallel(n_jobs=-1)]: Using backend LokyBackend with 16 concurrent workers.\n",
      "[Parallel(n_jobs=-1)]: Done   5 out of   5 | elapsed:    0.1s finished\n"
     ]
    }
   ],
   "source": [
    "# Instantiate the linear regressor \n",
    "linear_regressor = LinearRegression()\n",
    "\n",
    "# Perform 5 fold cross validation on the data\n",
    "linear_scores = cross_validate(linear_regressor, X, y, cv=5, scoring=scoring, n_jobs=-1, verbose=2)"
   ]
  },
  {
   "cell_type": "code",
   "execution_count": 326,
   "metadata": {},
   "outputs": [],
   "source": [
    "# Capture the average RMSE and R-squared scores from cross validation\n",
    "linear_rmse = np.math.sqrt(abs(linear_scores['test_neg_mean_squared_error'].mean()))\n",
    "linear_r2 = abs(linear_scores['test_r2'].mean())"
   ]
  },
  {
   "cell_type": "code",
   "execution_count": 327,
   "metadata": {},
   "outputs": [
    {
     "name": "stdout",
     "output_type": "stream",
     "text": [
      "             Model      RMSE  R-squared\n",
      " Linear Regression  0.331937   0.499861\n"
     ]
    }
   ],
   "source": [
    "# Store and print the RMSE and R-squared scores in dataframe\n",
    "scores_df = pd.DataFrame([{'Model':'Linear Regression', 'RMSE':linear_rmse, 'R-squared':linear_r2}])\n",
    "print(scores_df.to_string(index=False))"
   ]
  },
  {
   "cell_type": "markdown",
   "metadata": {},
   "source": [
    "# RIDGE REGRESSION"
   ]
  },
  {
   "cell_type": "code",
   "execution_count": 328,
   "metadata": {},
   "outputs": [],
   "source": [
    "# Shuffle the data \n",
    "X, y = shuffle(X, y)"
   ]
  },
  {
   "cell_type": "code",
   "execution_count": 329,
   "metadata": {},
   "outputs": [
    {
     "name": "stdout",
     "output_type": "stream",
     "text": [
      "Fitting 5 folds for each of 10 candidates, totalling 50 fits\n"
     ]
    },
    {
     "name": "stderr",
     "output_type": "stream",
     "text": [
      "[Parallel(n_jobs=-1)]: Using backend LokyBackend with 16 concurrent workers.\n",
      "[Parallel(n_jobs=-1)]: Done  19 out of  50 | elapsed:    0.1s remaining:    0.2s\n",
      "[Parallel(n_jobs=-1)]: Done  50 out of  50 | elapsed:    0.2s finished\n"
     ]
    }
   ],
   "source": [
    "# Create dictionary of alpha values\n",
    "param_grid = {'alpha':[0.001, 0.01, 0.1, 1, 5, 10, 50, 100, 500, 1000]}\n",
    "\n",
    "# Perform 5 fold grid search to get the best alpha value\n",
    "ridge_gsc = GridSearchCV(\n",
    "    estimator=Ridge(),\n",
    "    param_grid=param_grid,\n",
    "    cv=5, \n",
    "    n_jobs=-1,\n",
    "    verbose=2\n",
    ")\n",
    "\n",
    "ridge_grid_result = ridge_gsc.fit(X, y)"
   ]
  },
  {
   "cell_type": "code",
   "execution_count": 330,
   "metadata": {},
   "outputs": [
    {
     "name": "stdout",
     "output_type": "stream",
     "text": [
      "{'alpha': 5}\n"
     ]
    }
   ],
   "source": [
    "# Get and print the best alpha from the grid search\n",
    "ridge_best_params = ridge_grid_result.best_params_\n",
    "print(ridge_best_params)"
   ]
  },
  {
   "cell_type": "code",
   "execution_count": 331,
   "metadata": {},
   "outputs": [],
   "source": [
    "# Instantiate ridge regressor with the best alpha\n",
    "ridge = Ridge(alpha=ridge_best_params['alpha'])"
   ]
  },
  {
   "cell_type": "code",
   "execution_count": 332,
   "metadata": {},
   "outputs": [],
   "source": [
    "# Perform 5 fold cross validation on the data \n",
    "ridge_scores = cross_validate(ridge, X, y, cv=5, scoring=scoring, return_estimator=True)"
   ]
  },
  {
   "cell_type": "code",
   "execution_count": 333,
   "metadata": {},
   "outputs": [],
   "source": [
    "# Capture the average RMSE and R-squared scores from cross validation\n",
    "ridge_rmse = np.math.sqrt(abs(ridge_scores['test_neg_mean_squared_error'].mean()))\n",
    "ridge_r2 = abs(ridge_scores['test_r2'].mean())"
   ]
  },
  {
   "cell_type": "code",
   "execution_count": 334,
   "metadata": {},
   "outputs": [
    {
     "name": "stdout",
     "output_type": "stream",
     "text": [
      "             Model      RMSE  R-squared\n",
      " Linear Regression  0.331937   0.499861\n",
      "  Ridge Regression  0.331370   0.501626\n"
     ]
    }
   ],
   "source": [
    "# Store and print the RMSE and R-squared scores in dataframe\n",
    "scores_df = scores_df.append(pd.DataFrame([{'Model':'Ridge Regression', \n",
    "                                            'RMSE':ridge_rmse, 'R-squared':ridge_r2}]))\n",
    "\n",
    "print(scores_df.to_string(index=False))"
   ]
  },
  {
   "cell_type": "markdown",
   "metadata": {},
   "source": [
    "# LASSO REGRESSION"
   ]
  },
  {
   "cell_type": "code",
   "execution_count": 335,
   "metadata": {},
   "outputs": [],
   "source": [
    "# Shuffle the data \n",
    "X, y = shuffle(X, y)"
   ]
  },
  {
   "cell_type": "code",
   "execution_count": 336,
   "metadata": {
    "scrolled": true
   },
   "outputs": [
    {
     "name": "stdout",
     "output_type": "stream",
     "text": [
      "Fitting 5 folds for each of 10 candidates, totalling 50 fits\n"
     ]
    },
    {
     "name": "stderr",
     "output_type": "stream",
     "text": [
      "[Parallel(n_jobs=-1)]: Using backend LokyBackend with 16 concurrent workers.\n",
      "[Parallel(n_jobs=-1)]: Done  19 out of  50 | elapsed:    0.1s remaining:    0.2s\n",
      "[Parallel(n_jobs=-1)]: Done  50 out of  50 | elapsed:    0.3s finished\n"
     ]
    }
   ],
   "source": [
    "# Create dictionary of alpha values\n",
    "param_grid = {'alpha':[0.001, 0.01, 0.1, 1, 5, 10, 50, 100, 500, 1000]}\n",
    "\n",
    "# Perform 5 fold grid search to get the best alpha value\n",
    "lasso_gsc = GridSearchCV(\n",
    "    estimator=Lasso(),\n",
    "    param_grid=param_grid,\n",
    "    cv=5,\n",
    "    n_jobs=-1,\n",
    "    verbose=2\n",
    ")\n",
    "\n",
    "lasso_grid_result = lasso_gsc.fit(X, y)"
   ]
  },
  {
   "cell_type": "code",
   "execution_count": 337,
   "metadata": {},
   "outputs": [
    {
     "name": "stdout",
     "output_type": "stream",
     "text": [
      "{'alpha': 0.001}\n"
     ]
    }
   ],
   "source": [
    "# Get and print the best alpha from the grid search\n",
    "lasso_best_params = lasso_grid_result.best_params_\n",
    "print(lasso_best_params)"
   ]
  },
  {
   "cell_type": "code",
   "execution_count": 338,
   "metadata": {},
   "outputs": [],
   "source": [
    "# Instantiate lasso regressor with the best alpha\n",
    "lasso = Lasso(alpha=lasso_best_params['alpha'])"
   ]
  },
  {
   "cell_type": "code",
   "execution_count": 339,
   "metadata": {},
   "outputs": [],
   "source": [
    "# Perform 5 fold cross validation on the data \n",
    "lasso_scores = cross_validate(lasso, X, y, cv=5, scoring=scoring, return_estimator=True)"
   ]
  },
  {
   "cell_type": "code",
   "execution_count": 340,
   "metadata": {},
   "outputs": [],
   "source": [
    "# Capture the average RMSE and R-squared scores from cross validation\n",
    "lasso_rmse = np.math.sqrt(abs(lasso_scores['test_neg_mean_squared_error'].mean()))\n",
    "lasso_r2 = abs(lasso_scores['test_r2'].mean())"
   ]
  },
  {
   "cell_type": "code",
   "execution_count": 341,
   "metadata": {},
   "outputs": [
    {
     "name": "stdout",
     "output_type": "stream",
     "text": [
      "             Model      RMSE  R-squared\n",
      " Linear Regression  0.331937   0.499861\n",
      "  Ridge Regression  0.331370   0.501626\n",
      "  Lasso Regression  0.331186   0.502434\n"
     ]
    }
   ],
   "source": [
    "# Store and print the RMSE and R-squared scores in dataframe\n",
    "scores_df = scores_df.append(pd.DataFrame([{'Model':'Lasso Regression', \n",
    "                                            'RMSE':lasso_rmse, 'R-squared':lasso_r2}]))\n",
    "\n",
    "print(scores_df.to_string(index=False))"
   ]
  },
  {
   "cell_type": "markdown",
   "metadata": {},
   "source": [
    "# SVM REGRESSION"
   ]
  },
  {
   "cell_type": "code",
   "execution_count": 342,
   "metadata": {},
   "outputs": [],
   "source": [
    "# Create grid of different hyperparameter values\n",
    "random_grid = {\n",
    "    'kernel': ['rbf', 'poly', 'sigmoid'], \n",
    "    'C': [0.1, 1, 10, 50, 100, 1000],\n",
    "    'gamma': [0, 0.01, 0.001, 0.0005, 'auto'],\n",
    "    'epsilon': [0, 0.01, 0.1, 1, 2]\n",
    "}\n",
    "\n",
    "# Random search of parameters, using 3 fold cross validation, \n",
    "# search across 100 different combinations\n",
    "svm_random = RandomizedSearchCV(\n",
    "    estimator=SVR(), \n",
    "    param_distributions=random_grid, \n",
    "    n_iter=100, \n",
    "    cv=3, \n",
    "    verbose=2, \n",
    "    random_state=42, \n",
    "    n_jobs=-1\n",
    ")"
   ]
  },
  {
   "cell_type": "code",
   "execution_count": 343,
   "metadata": {},
   "outputs": [
    {
     "name": "stdout",
     "output_type": "stream",
     "text": [
      "Fitting 3 folds for each of 100 candidates, totalling 300 fits\n"
     ]
    },
    {
     "name": "stderr",
     "output_type": "stream",
     "text": [
      "[Parallel(n_jobs=-1)]: Using backend LokyBackend with 16 concurrent workers.\n",
      "[Parallel(n_jobs=-1)]: Done   9 tasks      | elapsed:   15.8s\n",
      "[Parallel(n_jobs=-1)]: Done 300 out of 300 | elapsed: 11.1min finished\n"
     ]
    },
    {
     "name": "stdout",
     "output_type": "stream",
     "text": [
      "Executed in 669.30 seconds.\n"
     ]
    }
   ],
   "source": [
    "# Fit the random search model\n",
    "svm_grid_result = svm_random.fit(X, y)"
   ]
  },
  {
   "cell_type": "code",
   "execution_count": 344,
   "metadata": {},
   "outputs": [
    {
     "name": "stdout",
     "output_type": "stream",
     "text": [
      "{'kernel': 'rbf', 'gamma': 'auto', 'epsilon': 0.1, 'C': 1}\n"
     ]
    }
   ],
   "source": [
    "# Get the best hyperparameters from the random search\n",
    "print(svm_grid_result.best_params_)"
   ]
  },
  {
   "cell_type": "code",
   "execution_count": 345,
   "metadata": {},
   "outputs": [
    {
     "name": "stdout",
     "output_type": "stream",
     "text": [
      "Fitting 3 folds for each of 9 candidates, totalling 27 fits\n"
     ]
    },
    {
     "name": "stderr",
     "output_type": "stream",
     "text": [
      "[Parallel(n_jobs=-1)]: Using backend LokyBackend with 16 concurrent workers.\n",
      "[Parallel(n_jobs=-1)]: Done  10 out of  27 | elapsed:   15.1s remaining:   25.6s\n",
      "[Parallel(n_jobs=-1)]: Done  24 out of  27 | elapsed:   23.6s remaining:    3.0s\n",
      "[Parallel(n_jobs=-1)]: Done  27 out of  27 | elapsed:   24.5s finished\n"
     ]
    }
   ],
   "source": [
    "# Create the parameter grid based on the results of random search \n",
    "param_grid = {\n",
    "    'kernel': ['rbf'],\n",
    "    'gamma': ['auto'],\n",
    "    'epsilon': [0.05, 0.1, 0.15],\n",
    "    'C': [0.5, 1, 2]\n",
    "}\n",
    "\n",
    "# Instantiate the grid search\n",
    "svm_gsc = GridSearchCV(\n",
    "    estimator=SVR(), \n",
    "    param_grid=param_grid, \n",
    "    cv=3, \n",
    "    n_jobs=-1,\n",
    "    verbose=2\n",
    ")\n",
    "\n",
    "# Fit the grid search model\n",
    "svm_grid_result = svm_gsc.fit(X, y)"
   ]
  },
  {
   "cell_type": "code",
   "execution_count": 346,
   "metadata": {},
   "outputs": [
    {
     "name": "stdout",
     "output_type": "stream",
     "text": [
      "{'C': 2, 'epsilon': 0.15, 'gamma': 'auto', 'kernel': 'rbf'}\n"
     ]
    }
   ],
   "source": [
    "# Get and print the best hyperparameters from the grid search\n",
    "svm_best_params = svm_grid_result.best_params_\n",
    "print(svm_best_params)"
   ]
  },
  {
   "cell_type": "code",
   "execution_count": 347,
   "metadata": {},
   "outputs": [],
   "source": [
    "# Instantiate SVM with the best hyperparameters\n",
    "svm = SVR(\n",
    "    kernel=svm_best_params['kernel'],\n",
    "    C=svm_best_params['C'], \n",
    "    gamma=svm_best_params['gamma'],\n",
    "    epsilon=svm_best_params['epsilon'],\n",
    ")"
   ]
  },
  {
   "cell_type": "code",
   "execution_count": 348,
   "metadata": {},
   "outputs": [],
   "source": [
    "# Perform 5 fold cross validation on the data \n",
    "svm_scores = cross_validate(svm, X, y, cv=5, scoring=scoring)"
   ]
  },
  {
   "cell_type": "code",
   "execution_count": 349,
   "metadata": {},
   "outputs": [],
   "source": [
    "# Capture the average RMSE and R-squared scores from cross validation\n",
    "svm_rmse = np.math.sqrt(abs(svm_scores['test_neg_mean_squared_error'].mean()))\n",
    "svm_r2 = abs(svm_scores['test_r2'].mean())"
   ]
  },
  {
   "cell_type": "code",
   "execution_count": 350,
   "metadata": {},
   "outputs": [
    {
     "name": "stdout",
     "output_type": "stream",
     "text": [
      "             Model      RMSE  R-squared\n",
      " Linear Regression  0.331937   0.499861\n",
      "  Ridge Regression  0.331370   0.501626\n",
      "  Lasso Regression  0.331186   0.502434\n",
      "    SVM Regression  0.320084   0.535206\n"
     ]
    }
   ],
   "source": [
    "# Store and print the RMSE and R-squared scores in dataframe\n",
    "scores_df = scores_df.append(pd.DataFrame([{'Model':'SVM Regression', \n",
    "                                            'RMSE':svm_rmse, 'R-squared':svm_r2}]))\n",
    "\n",
    "print(scores_df.to_string(index=False))"
   ]
  },
  {
   "cell_type": "markdown",
   "metadata": {},
   "source": [
    "# RANDOM FOREST REGRESSION"
   ]
  },
  {
   "cell_type": "code",
   "execution_count": 351,
   "metadata": {},
   "outputs": [
    {
     "name": "stdout",
     "output_type": "stream",
     "text": [
      "{'n_estimators': [100, 305, 510, 715, 921, 1126, 1331, 1536, 1742, 1947, 2152, 2357, 2563, 2768, 2973, 3178, 3384, 3589, 3794, 4000], 'max_features': ['auto', 'sqrt'], 'max_depth': [10, 20, 30, 40, 50, 60, 70, 80, 90, 100, 110, 120, 130, 140, 150, 160, 170, 180, 190, 200], 'min_samples_split': [2, 5, 9, 14, 20], 'min_samples_leaf': [1, 2, 4, 7, 11], 'bootstrap': [True, False]}\n"
     ]
    }
   ],
   "source": [
    "# Number of trees\n",
    "n_estimators = [int(x) for x in np.linspace(start=100, stop=4000, num=20)]\n",
    "\n",
    "# Number of features to consider at every split\n",
    "max_features = ['auto', 'sqrt']\n",
    "\n",
    "# Maximum number of levels in tree\n",
    "max_depth = [int(x) for x in np.linspace(10, 200, num=20)]\n",
    "\n",
    "# Minimum number of samples required to split a node\n",
    "min_samples_split = [2, 5, 9, 14, 20]\n",
    "\n",
    "# Minimum number of samples required at each leaf node\n",
    "min_samples_leaf = [1, 2, 4, 7, 11]\n",
    "\n",
    "# Method of selecting samples for training each tree\n",
    "bootstrap = [True, False]\n",
    "\n",
    "# Create grid of different hyperparameter values\n",
    "random_grid = {\n",
    "    'n_estimators': n_estimators,\n",
    "    'max_features': max_features,\n",
    "    'max_depth': max_depth,\n",
    "    'min_samples_split': min_samples_split,\n",
    "    'min_samples_leaf': min_samples_leaf,\n",
    "    'bootstrap': bootstrap\n",
    "}\n",
    "\n",
    "print(random_grid)"
   ]
  },
  {
   "cell_type": "code",
   "execution_count": 353,
   "metadata": {},
   "outputs": [],
   "source": [
    "# Random search of parameters, using 3 fold cross validation, \n",
    "# search across 100 different combinations\n",
    "rfr_random = RandomizedSearchCV(\n",
    "    estimator=RandomForestRegressor(), \n",
    "    param_distributions=random_grid, \n",
    "    n_iter=100, \n",
    "    cv=3, \n",
    "    verbose=2, \n",
    "    random_state=42, \n",
    "    n_jobs=-1\n",
    ")"
   ]
  },
  {
   "cell_type": "code",
   "execution_count": 354,
   "metadata": {},
   "outputs": [
    {
     "name": "stdout",
     "output_type": "stream",
     "text": [
      "Fitting 3 folds for each of 100 candidates, totalling 300 fits\n"
     ]
    },
    {
     "name": "stderr",
     "output_type": "stream",
     "text": [
      "[Parallel(n_jobs=-1)]: Using backend LokyBackend with 16 concurrent workers.\n",
      "[Parallel(n_jobs=-1)]: Done   9 tasks      | elapsed:   32.5s\n",
      "[Parallel(n_jobs=-1)]: Done 130 tasks      | elapsed: 12.0min\n",
      "[Parallel(n_jobs=-1)]: Done 300 out of 300 | elapsed: 55.9min finished\n"
     ]
    },
    {
     "name": "stdout",
     "output_type": "stream",
     "text": [
      "Executed in 1581.02 seconds.\n"
     ]
    }
   ],
   "source": [
    "# Fit the random search model\n",
    "rfr_random.fit(X, y)"
   ]
  },
  {
   "cell_type": "code",
   "execution_count": 359,
   "metadata": {
    "scrolled": true
   },
   "outputs": [
    {
     "name": "stdout",
     "output_type": "stream",
     "text": [
      "{'n_estimators': 3178, 'min_samples_split': 5, 'min_samples_leaf': 1, 'max_features': 'sqrt', 'max_depth': 110, 'bootstrap': False}\n"
     ]
    }
   ],
   "source": [
    "# Get the best hyperparameters from the random search\n",
    "print(rfr_random.best_params_)"
   ]
  },
  {
   "cell_type": "code",
   "execution_count": 356,
   "metadata": {},
   "outputs": [],
   "source": [
    "# Create the parameter grid based on the results of random search \n",
    "param_grid = {\n",
    "    'bootstrap': [False],\n",
    "    'max_depth': [100, 110, 120],\n",
    "    'max_features': ['sqrt'],\n",
    "    'min_samples_leaf': [1, 2],\n",
    "    'min_samples_split': [4, 5, 6],\n",
    "    'n_estimators': [3000, 3100, 3200, 3300]\n",
    "}\n",
    "\n",
    "# Instantiate the grid search\n",
    "rfr_gsc = GridSearchCV(\n",
    "    estimator=RandomForestRegressor(), \n",
    "    param_grid=param_grid, \n",
    "    cv=3, \n",
    "    n_jobs=-1,\n",
    "    verbose=2\n",
    ")"
   ]
  },
  {
   "cell_type": "code",
   "execution_count": 357,
   "metadata": {},
   "outputs": [
    {
     "name": "stdout",
     "output_type": "stream",
     "text": [
      "Fitting 3 folds for each of 72 candidates, totalling 216 fits\n"
     ]
    },
    {
     "name": "stderr",
     "output_type": "stream",
     "text": [
      "[Parallel(n_jobs=-1)]: Using backend LokyBackend with 16 concurrent workers.\n",
      "[Parallel(n_jobs=-1)]: Done   9 tasks      | elapsed:  1.6min\n",
      "[Parallel(n_jobs=-1)]: Done 130 tasks      | elapsed: 11.3min\n",
      "[Parallel(n_jobs=-1)]: Done 216 out of 216 | elapsed: 17.3min finished\n"
     ]
    }
   ],
   "source": [
    "# Fit the grid search model\n",
    "rfr_grid_result = rfr_gsc.fit(X, y)"
   ]
  },
  {
   "cell_type": "code",
   "execution_count": 360,
   "metadata": {},
   "outputs": [
    {
     "name": "stdout",
     "output_type": "stream",
     "text": [
      "{'bootstrap': False, 'max_depth': 120, 'max_features': 'sqrt', 'min_samples_leaf': 1, 'min_samples_split': 6, 'n_estimators': 3100}\n"
     ]
    }
   ],
   "source": [
    "# Get and print the best hyperparameters from the grid search\n",
    "rfr_best_params = rfr_grid_result.best_params_\n",
    "print(rfr_best_params)"
   ]
  },
  {
   "cell_type": "code",
   "execution_count": 361,
   "metadata": {},
   "outputs": [],
   "source": [
    "# Instantiate random forest regressor with the best hyperparameters\n",
    "rfr = RandomForestRegressor(\n",
    "    bootstrap=rfr_best_params['bootstrap'],\n",
    "    max_depth=rfr_best_params['max_depth'], \n",
    "    max_features=rfr_best_params['max_features'],\n",
    "    min_samples_leaf=rfr_best_params['min_samples_leaf'],\n",
    "    min_samples_split=rfr_best_params['min_samples_split'],\n",
    "    n_estimators=rfr_best_params['n_estimators']\n",
    ")"
   ]
  },
  {
   "cell_type": "code",
   "execution_count": 362,
   "metadata": {},
   "outputs": [
    {
     "name": "stderr",
     "output_type": "stream",
     "text": [
      "[Parallel(n_jobs=-1)]: Using backend LokyBackend with 16 concurrent workers.\n",
      "[Parallel(n_jobs=-1)]: Done   5 out of   5 | elapsed:   39.0s finished\n"
     ]
    }
   ],
   "source": [
    "# Perform 5 cross validation on the data\n",
    "rfr_scores = cross_validate(rfr, X, y, cv=5, scoring=scoring, n_jobs=-1, verbose=2)"
   ]
  },
  {
   "cell_type": "code",
   "execution_count": 363,
   "metadata": {},
   "outputs": [],
   "source": [
    "# Capture the average RMSE and R-squared scores from cross validation\n",
    "rfr_rmse = np.math.sqrt(abs(rfr_scores['test_neg_mean_squared_error'].mean()))\n",
    "rfr_r2 = abs(rfr_scores['test_r2'].mean())"
   ]
  },
  {
   "cell_type": "code",
   "execution_count": 364,
   "metadata": {},
   "outputs": [
    {
     "name": "stdout",
     "output_type": "stream",
     "text": [
      "                    Model      RMSE  R-squared\n",
      "        Linear Regression  0.331937   0.499861\n",
      "         Ridge Regression  0.331370   0.501626\n",
      "         Lasso Regression  0.331186   0.502434\n",
      "           SVM Regression  0.320084   0.535206\n",
      " Random Forest Regression  0.268167   0.673625\n"
     ]
    }
   ],
   "source": [
    "# Store and print the RMSE and R-squared scores in dataframe\n",
    "scores_df = scores_df.append(pd.DataFrame([{'Model':'Random Forest Regression', \n",
    "                                            'RMSE':rfr_rmse, 'R-squared':rfr_r2}]))\n",
    "\n",
    "print(scores_df.to_string(index=False))"
   ]
  },
  {
   "cell_type": "markdown",
   "metadata": {},
   "source": [
    "# GRADIENT BOOSTING REGRESSION"
   ]
  },
  {
   "cell_type": "code",
   "execution_count": 365,
   "metadata": {
    "scrolled": true
   },
   "outputs": [],
   "source": [
    "# Create grid of different hyperparameter values\n",
    "random_grid = {\n",
    "    'learning_rate': [0.0001, 0.001, 0.01, 0.1, 0.2, 0.3],\n",
    "    'n_estimators': n_estimators, \n",
    "    'max_depth': max_depth,\n",
    "    'min_samples_split': min_samples_split,\n",
    "    'min_samples_leaf': min_samples_leaf,\n",
    "    'max_features': max_features\n",
    "}\n",
    "\n",
    "# Random search of parameters, using 3 fold cross validation, \n",
    "# search across 100 different combinations\n",
    "gbr_random = RandomizedSearchCV(\n",
    "    estimator=GradientBoostingRegressor(), \n",
    "    param_distributions=random_grid, \n",
    "    n_iter=100, \n",
    "    cv=3, \n",
    "    verbose=2, \n",
    "    random_state=42, \n",
    "    n_jobs=-1\n",
    ")"
   ]
  },
  {
   "cell_type": "code",
   "execution_count": 366,
   "metadata": {},
   "outputs": [
    {
     "name": "stdout",
     "output_type": "stream",
     "text": [
      "Fitting 3 folds for each of 100 candidates, totalling 300 fits\n"
     ]
    },
    {
     "name": "stderr",
     "output_type": "stream",
     "text": [
      "[Parallel(n_jobs=-1)]: Using backend LokyBackend with 16 concurrent workers.\n",
      "[Parallel(n_jobs=-1)]: Done   9 tasks      | elapsed:  1.4min\n",
      "[Parallel(n_jobs=-1)]: Done 130 tasks      | elapsed: 485.7min\n",
      "[Parallel(n_jobs=-1)]: Done 300 out of 300 | elapsed: 602.3min finished\n"
     ]
    },
    {
     "name": "stdout",
     "output_type": "stream",
     "text": [
      "Executed in 12665.02 seconds.\n"
     ]
    }
   ],
   "source": [
    "# Fit the random search model\n",
    "gbr_grid_result = gbr_random.fit(X, y)"
   ]
  },
  {
   "cell_type": "code",
   "execution_count": 367,
   "metadata": {},
   "outputs": [
    {
     "name": "stdout",
     "output_type": "stream",
     "text": [
      "{'n_estimators': 3589, 'min_samples_split': 9, 'min_samples_leaf': 4, 'max_features': 'sqrt', 'max_depth': 10, 'learning_rate': 0.01}\n"
     ]
    }
   ],
   "source": [
    "# Get the best hyperparameters from the random search\n",
    "print(gbr_grid_result.best_params_)"
   ]
  },
  {
   "cell_type": "code",
   "execution_count": 368,
   "metadata": {
    "scrolled": false
   },
   "outputs": [],
   "source": [
    "# Create the parameter grid based on the results of random search \n",
    "param_grid = {\n",
    "    'learning_rate': [0.01],\n",
    "    'max_depth': [5, 10, 15],\n",
    "    'min_samples_split': [8, 9, 10],\n",
    "    'n_estimators': [3000, 3500, 4000],\n",
    "    'min_samples_leaf': [3, 4, 5],\n",
    "    'max_features': ['sqrt']\n",
    "}\n",
    "\n",
    "# Instantiate the grid search\n",
    "gbr_gsc = GridSearchCV(\n",
    "    estimator=GradientBoostingRegressor(), \n",
    "    param_grid=param_grid, \n",
    "    cv=5, \n",
    "    n_jobs=-1,\n",
    "    verbose=2\n",
    ")"
   ]
  },
  {
   "cell_type": "code",
   "execution_count": 369,
   "metadata": {},
   "outputs": [
    {
     "name": "stdout",
     "output_type": "stream",
     "text": [
      "Fitting 5 folds for each of 81 candidates, totalling 405 fits\n"
     ]
    },
    {
     "name": "stderr",
     "output_type": "stream",
     "text": [
      "[Parallel(n_jobs=-1)]: Using backend LokyBackend with 16 concurrent workers.\n",
      "[Parallel(n_jobs=-1)]: Done   9 tasks      | elapsed:  1.1min\n",
      "[Parallel(n_jobs=-1)]: Done 130 tasks      | elapsed:  9.0min\n",
      "[Parallel(n_jobs=-1)]: Done 333 tasks      | elapsed: 47.5min\n",
      "[Parallel(n_jobs=-1)]: Done 405 out of 405 | elapsed: 73.3min finished\n"
     ]
    },
    {
     "name": "stdout",
     "output_type": "stream",
     "text": [
      "Executed in 3777.86 seconds.\n"
     ]
    }
   ],
   "source": [
    "# Fit the grid search model\n",
    "gbr_grid_result = gbr_gsc.fit(X, y)"
   ]
  },
  {
   "cell_type": "code",
   "execution_count": 370,
   "metadata": {},
   "outputs": [
    {
     "name": "stdout",
     "output_type": "stream",
     "text": [
      "{'learning_rate': 0.01, 'max_depth': 10, 'max_features': 'sqrt', 'min_samples_leaf': 5, 'min_samples_split': 10, 'n_estimators': 3500}\n"
     ]
    }
   ],
   "source": [
    "# Get and print the best hyperparameters from the grid search\n",
    "gbr_best_params = gbr_grid_result.best_params_\n",
    "print(gbr_best_params)"
   ]
  },
  {
   "cell_type": "code",
   "execution_count": 371,
   "metadata": {},
   "outputs": [],
   "source": [
    "# Instantiate gradient boosting regressor with the best hyperparameters\n",
    "gbr = GradientBoostingRegressor(\n",
    "    learning_rate=gbr_best_params['learning_rate'],\n",
    "    max_depth=gbr_best_params['max_depth'], \n",
    "    min_samples_split=gbr_best_params['min_samples_split'],\n",
    "    n_estimators=gbr_best_params['n_estimators']\n",
    ")"
   ]
  },
  {
   "cell_type": "code",
   "execution_count": 372,
   "metadata": {},
   "outputs": [
    {
     "name": "stderr",
     "output_type": "stream",
     "text": [
      "[Parallel(n_jobs=-1)]: Using backend LokyBackend with 16 concurrent workers.\n",
      "[Parallel(n_jobs=-1)]: Done   5 out of   5 | elapsed:  3.5min finished\n"
     ]
    }
   ],
   "source": [
    "# Perform 5 cross validation on the data\n",
    "gbr_scores = cross_validate(gbr, X, y, cv=5, scoring=scoring, n_jobs=-1, verbose=2)"
   ]
  },
  {
   "cell_type": "code",
   "execution_count": 373,
   "metadata": {},
   "outputs": [],
   "source": [
    "# Capture the average RMSE and R-squared scores from cross validation\n",
    "gbr_rmse = np.math.sqrt(abs(gbr_scores['test_neg_mean_squared_error'].mean()))\n",
    "gbr_r2 = abs(gbr_scores['test_r2'].mean())"
   ]
  },
  {
   "cell_type": "code",
   "execution_count": 374,
   "metadata": {
    "scrolled": true
   },
   "outputs": [
    {
     "name": "stdout",
     "output_type": "stream",
     "text": [
      "                        Model      RMSE  R-squared\n",
      "            Linear Regression  0.331937   0.499861\n",
      "             Ridge Regression  0.331370   0.501626\n",
      "             Lasso Regression  0.331186   0.502434\n",
      "               SVM Regression  0.320084   0.535206\n",
      "     Random Forest Regression  0.268167   0.673625\n",
      " Gradient Boosting Regression  0.273974   0.659218\n"
     ]
    }
   ],
   "source": [
    "# Store and print the RMSE and R-squared scores in dataframe\n",
    "scores_df = scores_df.append(pd.DataFrame([{'Model':'Gradient Boosting Regression', \n",
    "                                            'RMSE':gbr_rmse, 'R-squared':gbr_r2}]))\n",
    "\n",
    "print(scores_df.to_string(index=False))"
   ]
  },
  {
   "cell_type": "code",
   "execution_count": 375,
   "metadata": {},
   "outputs": [
    {
     "data": {
      "application/vnd.plotly.v1+json": {
       "config": {
        "plotlyServerURL": "https://plot.ly"
       },
       "data": [
        {
         "name": "RMSE",
         "offsetgroup": "0",
         "type": "bar",
         "x": [
          "Linear Regression",
          "Ridge Regression",
          "Lasso Regression",
          "SVM Regression",
          "Random Forest Regression",
          "Gradient Boosting Regression"
         ],
         "y": [
          0.33193732401934756,
          0.33137001490593837,
          0.33118561872179947,
          0.3200835751782767,
          0.26816702472225123,
          0.2739744410476685
         ]
        },
        {
         "name": "R-squared",
         "offsetgroup": "1",
         "type": "bar",
         "x": [
          "Linear Regression",
          "Ridge Regression",
          "Lasso Regression",
          "SVM Regression",
          "Random Forest Regression",
          "Gradient Boosting Regression"
         ],
         "y": [
          0.49986056509891474,
          0.5016262851380856,
          0.5024335082132433,
          0.5352062430337228,
          0.6736252796391307,
          0.6592182908820265
         ]
        }
       ],
       "layout": {
        "template": {
         "data": {
          "bar": [
           {
            "error_x": {
             "color": "#2a3f5f"
            },
            "error_y": {
             "color": "#2a3f5f"
            },
            "marker": {
             "line": {
              "color": "#E5ECF6",
              "width": 0.5
             }
            },
            "type": "bar"
           }
          ],
          "barpolar": [
           {
            "marker": {
             "line": {
              "color": "#E5ECF6",
              "width": 0.5
             }
            },
            "type": "barpolar"
           }
          ],
          "carpet": [
           {
            "aaxis": {
             "endlinecolor": "#2a3f5f",
             "gridcolor": "white",
             "linecolor": "white",
             "minorgridcolor": "white",
             "startlinecolor": "#2a3f5f"
            },
            "baxis": {
             "endlinecolor": "#2a3f5f",
             "gridcolor": "white",
             "linecolor": "white",
             "minorgridcolor": "white",
             "startlinecolor": "#2a3f5f"
            },
            "type": "carpet"
           }
          ],
          "choropleth": [
           {
            "colorbar": {
             "outlinewidth": 0,
             "ticks": ""
            },
            "type": "choropleth"
           }
          ],
          "contour": [
           {
            "colorbar": {
             "outlinewidth": 0,
             "ticks": ""
            },
            "colorscale": [
             [
              0,
              "#0d0887"
             ],
             [
              0.1111111111111111,
              "#46039f"
             ],
             [
              0.2222222222222222,
              "#7201a8"
             ],
             [
              0.3333333333333333,
              "#9c179e"
             ],
             [
              0.4444444444444444,
              "#bd3786"
             ],
             [
              0.5555555555555556,
              "#d8576b"
             ],
             [
              0.6666666666666666,
              "#ed7953"
             ],
             [
              0.7777777777777778,
              "#fb9f3a"
             ],
             [
              0.8888888888888888,
              "#fdca26"
             ],
             [
              1,
              "#f0f921"
             ]
            ],
            "type": "contour"
           }
          ],
          "contourcarpet": [
           {
            "colorbar": {
             "outlinewidth": 0,
             "ticks": ""
            },
            "type": "contourcarpet"
           }
          ],
          "heatmap": [
           {
            "colorbar": {
             "outlinewidth": 0,
             "ticks": ""
            },
            "colorscale": [
             [
              0,
              "#0d0887"
             ],
             [
              0.1111111111111111,
              "#46039f"
             ],
             [
              0.2222222222222222,
              "#7201a8"
             ],
             [
              0.3333333333333333,
              "#9c179e"
             ],
             [
              0.4444444444444444,
              "#bd3786"
             ],
             [
              0.5555555555555556,
              "#d8576b"
             ],
             [
              0.6666666666666666,
              "#ed7953"
             ],
             [
              0.7777777777777778,
              "#fb9f3a"
             ],
             [
              0.8888888888888888,
              "#fdca26"
             ],
             [
              1,
              "#f0f921"
             ]
            ],
            "type": "heatmap"
           }
          ],
          "heatmapgl": [
           {
            "colorbar": {
             "outlinewidth": 0,
             "ticks": ""
            },
            "colorscale": [
             [
              0,
              "#0d0887"
             ],
             [
              0.1111111111111111,
              "#46039f"
             ],
             [
              0.2222222222222222,
              "#7201a8"
             ],
             [
              0.3333333333333333,
              "#9c179e"
             ],
             [
              0.4444444444444444,
              "#bd3786"
             ],
             [
              0.5555555555555556,
              "#d8576b"
             ],
             [
              0.6666666666666666,
              "#ed7953"
             ],
             [
              0.7777777777777778,
              "#fb9f3a"
             ],
             [
              0.8888888888888888,
              "#fdca26"
             ],
             [
              1,
              "#f0f921"
             ]
            ],
            "type": "heatmapgl"
           }
          ],
          "histogram": [
           {
            "marker": {
             "colorbar": {
              "outlinewidth": 0,
              "ticks": ""
             }
            },
            "type": "histogram"
           }
          ],
          "histogram2d": [
           {
            "colorbar": {
             "outlinewidth": 0,
             "ticks": ""
            },
            "colorscale": [
             [
              0,
              "#0d0887"
             ],
             [
              0.1111111111111111,
              "#46039f"
             ],
             [
              0.2222222222222222,
              "#7201a8"
             ],
             [
              0.3333333333333333,
              "#9c179e"
             ],
             [
              0.4444444444444444,
              "#bd3786"
             ],
             [
              0.5555555555555556,
              "#d8576b"
             ],
             [
              0.6666666666666666,
              "#ed7953"
             ],
             [
              0.7777777777777778,
              "#fb9f3a"
             ],
             [
              0.8888888888888888,
              "#fdca26"
             ],
             [
              1,
              "#f0f921"
             ]
            ],
            "type": "histogram2d"
           }
          ],
          "histogram2dcontour": [
           {
            "colorbar": {
             "outlinewidth": 0,
             "ticks": ""
            },
            "colorscale": [
             [
              0,
              "#0d0887"
             ],
             [
              0.1111111111111111,
              "#46039f"
             ],
             [
              0.2222222222222222,
              "#7201a8"
             ],
             [
              0.3333333333333333,
              "#9c179e"
             ],
             [
              0.4444444444444444,
              "#bd3786"
             ],
             [
              0.5555555555555556,
              "#d8576b"
             ],
             [
              0.6666666666666666,
              "#ed7953"
             ],
             [
              0.7777777777777778,
              "#fb9f3a"
             ],
             [
              0.8888888888888888,
              "#fdca26"
             ],
             [
              1,
              "#f0f921"
             ]
            ],
            "type": "histogram2dcontour"
           }
          ],
          "mesh3d": [
           {
            "colorbar": {
             "outlinewidth": 0,
             "ticks": ""
            },
            "type": "mesh3d"
           }
          ],
          "parcoords": [
           {
            "line": {
             "colorbar": {
              "outlinewidth": 0,
              "ticks": ""
             }
            },
            "type": "parcoords"
           }
          ],
          "pie": [
           {
            "automargin": true,
            "type": "pie"
           }
          ],
          "scatter": [
           {
            "marker": {
             "colorbar": {
              "outlinewidth": 0,
              "ticks": ""
             }
            },
            "type": "scatter"
           }
          ],
          "scatter3d": [
           {
            "line": {
             "colorbar": {
              "outlinewidth": 0,
              "ticks": ""
             }
            },
            "marker": {
             "colorbar": {
              "outlinewidth": 0,
              "ticks": ""
             }
            },
            "type": "scatter3d"
           }
          ],
          "scattercarpet": [
           {
            "marker": {
             "colorbar": {
              "outlinewidth": 0,
              "ticks": ""
             }
            },
            "type": "scattercarpet"
           }
          ],
          "scattergeo": [
           {
            "marker": {
             "colorbar": {
              "outlinewidth": 0,
              "ticks": ""
             }
            },
            "type": "scattergeo"
           }
          ],
          "scattergl": [
           {
            "marker": {
             "colorbar": {
              "outlinewidth": 0,
              "ticks": ""
             }
            },
            "type": "scattergl"
           }
          ],
          "scattermapbox": [
           {
            "marker": {
             "colorbar": {
              "outlinewidth": 0,
              "ticks": ""
             }
            },
            "type": "scattermapbox"
           }
          ],
          "scatterpolar": [
           {
            "marker": {
             "colorbar": {
              "outlinewidth": 0,
              "ticks": ""
             }
            },
            "type": "scatterpolar"
           }
          ],
          "scatterpolargl": [
           {
            "marker": {
             "colorbar": {
              "outlinewidth": 0,
              "ticks": ""
             }
            },
            "type": "scatterpolargl"
           }
          ],
          "scatterternary": [
           {
            "marker": {
             "colorbar": {
              "outlinewidth": 0,
              "ticks": ""
             }
            },
            "type": "scatterternary"
           }
          ],
          "surface": [
           {
            "colorbar": {
             "outlinewidth": 0,
             "ticks": ""
            },
            "colorscale": [
             [
              0,
              "#0d0887"
             ],
             [
              0.1111111111111111,
              "#46039f"
             ],
             [
              0.2222222222222222,
              "#7201a8"
             ],
             [
              0.3333333333333333,
              "#9c179e"
             ],
             [
              0.4444444444444444,
              "#bd3786"
             ],
             [
              0.5555555555555556,
              "#d8576b"
             ],
             [
              0.6666666666666666,
              "#ed7953"
             ],
             [
              0.7777777777777778,
              "#fb9f3a"
             ],
             [
              0.8888888888888888,
              "#fdca26"
             ],
             [
              1,
              "#f0f921"
             ]
            ],
            "type": "surface"
           }
          ],
          "table": [
           {
            "cells": {
             "fill": {
              "color": "#EBF0F8"
             },
             "line": {
              "color": "white"
             }
            },
            "header": {
             "fill": {
              "color": "#C8D4E3"
             },
             "line": {
              "color": "white"
             }
            },
            "type": "table"
           }
          ]
         },
         "layout": {
          "annotationdefaults": {
           "arrowcolor": "#2a3f5f",
           "arrowhead": 0,
           "arrowwidth": 1
          },
          "coloraxis": {
           "colorbar": {
            "outlinewidth": 0,
            "ticks": ""
           }
          },
          "colorscale": {
           "diverging": [
            [
             0,
             "#8e0152"
            ],
            [
             0.1,
             "#c51b7d"
            ],
            [
             0.2,
             "#de77ae"
            ],
            [
             0.3,
             "#f1b6da"
            ],
            [
             0.4,
             "#fde0ef"
            ],
            [
             0.5,
             "#f7f7f7"
            ],
            [
             0.6,
             "#e6f5d0"
            ],
            [
             0.7,
             "#b8e186"
            ],
            [
             0.8,
             "#7fbc41"
            ],
            [
             0.9,
             "#4d9221"
            ],
            [
             1,
             "#276419"
            ]
           ],
           "sequential": [
            [
             0,
             "#0d0887"
            ],
            [
             0.1111111111111111,
             "#46039f"
            ],
            [
             0.2222222222222222,
             "#7201a8"
            ],
            [
             0.3333333333333333,
             "#9c179e"
            ],
            [
             0.4444444444444444,
             "#bd3786"
            ],
            [
             0.5555555555555556,
             "#d8576b"
            ],
            [
             0.6666666666666666,
             "#ed7953"
            ],
            [
             0.7777777777777778,
             "#fb9f3a"
            ],
            [
             0.8888888888888888,
             "#fdca26"
            ],
            [
             1,
             "#f0f921"
            ]
           ],
           "sequentialminus": [
            [
             0,
             "#0d0887"
            ],
            [
             0.1111111111111111,
             "#46039f"
            ],
            [
             0.2222222222222222,
             "#7201a8"
            ],
            [
             0.3333333333333333,
             "#9c179e"
            ],
            [
             0.4444444444444444,
             "#bd3786"
            ],
            [
             0.5555555555555556,
             "#d8576b"
            ],
            [
             0.6666666666666666,
             "#ed7953"
            ],
            [
             0.7777777777777778,
             "#fb9f3a"
            ],
            [
             0.8888888888888888,
             "#fdca26"
            ],
            [
             1,
             "#f0f921"
            ]
           ]
          },
          "colorway": [
           "#636efa",
           "#EF553B",
           "#00cc96",
           "#ab63fa",
           "#FFA15A",
           "#19d3f3",
           "#FF6692",
           "#B6E880",
           "#FF97FF",
           "#FECB52"
          ],
          "font": {
           "color": "#2a3f5f"
          },
          "geo": {
           "bgcolor": "white",
           "lakecolor": "white",
           "landcolor": "#E5ECF6",
           "showlakes": true,
           "showland": true,
           "subunitcolor": "white"
          },
          "hoverlabel": {
           "align": "left"
          },
          "hovermode": "closest",
          "mapbox": {
           "style": "light"
          },
          "paper_bgcolor": "white",
          "plot_bgcolor": "#E5ECF6",
          "polar": {
           "angularaxis": {
            "gridcolor": "white",
            "linecolor": "white",
            "ticks": ""
           },
           "bgcolor": "#E5ECF6",
           "radialaxis": {
            "gridcolor": "white",
            "linecolor": "white",
            "ticks": ""
           }
          },
          "scene": {
           "xaxis": {
            "backgroundcolor": "#E5ECF6",
            "gridcolor": "white",
            "gridwidth": 2,
            "linecolor": "white",
            "showbackground": true,
            "ticks": "",
            "zerolinecolor": "white"
           },
           "yaxis": {
            "backgroundcolor": "#E5ECF6",
            "gridcolor": "white",
            "gridwidth": 2,
            "linecolor": "white",
            "showbackground": true,
            "ticks": "",
            "zerolinecolor": "white"
           },
           "zaxis": {
            "backgroundcolor": "#E5ECF6",
            "gridcolor": "white",
            "gridwidth": 2,
            "linecolor": "white",
            "showbackground": true,
            "ticks": "",
            "zerolinecolor": "white"
           }
          },
          "shapedefaults": {
           "line": {
            "color": "#2a3f5f"
           }
          },
          "ternary": {
           "aaxis": {
            "gridcolor": "white",
            "linecolor": "white",
            "ticks": ""
           },
           "baxis": {
            "gridcolor": "white",
            "linecolor": "white",
            "ticks": ""
           },
           "bgcolor": "#E5ECF6",
           "caxis": {
            "gridcolor": "white",
            "linecolor": "white",
            "ticks": ""
           }
          },
          "title": {
           "x": 0.05
          },
          "xaxis": {
           "automargin": true,
           "gridcolor": "white",
           "linecolor": "white",
           "ticks": "",
           "title": {
            "standoff": 15
           },
           "zerolinecolor": "white",
           "zerolinewidth": 2
          },
          "yaxis": {
           "automargin": true,
           "gridcolor": "white",
           "linecolor": "white",
           "ticks": "",
           "title": {
            "standoff": 15
           },
           "zerolinecolor": "white",
           "zerolinewidth": 2
          }
         }
        },
        "title": {
         "text": "Model Comparison"
        },
        "yaxis": {
         "title": {
          "text": "Scores"
         }
        }
       }
      },
      "text/html": [
       "<div>\n",
       "        \n",
       "        \n",
       "            <div id=\"58711875-d188-4afd-bf05-deb68fa34838\" class=\"plotly-graph-div\" style=\"height:525px; width:100%;\"></div>\n",
       "            <script type=\"text/javascript\">\n",
       "                require([\"plotly\"], function(Plotly) {\n",
       "                    window.PLOTLYENV=window.PLOTLYENV || {};\n",
       "                    \n",
       "                if (document.getElementById(\"58711875-d188-4afd-bf05-deb68fa34838\")) {\n",
       "                    Plotly.newPlot(\n",
       "                        '58711875-d188-4afd-bf05-deb68fa34838',\n",
       "                        [{\"name\": \"RMSE\", \"offsetgroup\": \"0\", \"type\": \"bar\", \"x\": [\"Linear Regression\", \"Ridge Regression\", \"Lasso Regression\", \"SVM Regression\", \"Random Forest Regression\", \"Gradient Boosting Regression\"], \"y\": [0.33193732401934756, 0.33137001490593837, 0.33118561872179947, 0.3200835751782767, 0.26816702472225123, 0.2739744410476685]}, {\"name\": \"R-squared\", \"offsetgroup\": \"1\", \"type\": \"bar\", \"x\": [\"Linear Regression\", \"Ridge Regression\", \"Lasso Regression\", \"SVM Regression\", \"Random Forest Regression\", \"Gradient Boosting Regression\"], \"y\": [0.49986056509891474, 0.5016262851380856, 0.5024335082132433, 0.5352062430337228, 0.6736252796391307, 0.6592182908820265]}],\n",
       "                        {\"template\": {\"data\": {\"bar\": [{\"error_x\": {\"color\": \"#2a3f5f\"}, \"error_y\": {\"color\": \"#2a3f5f\"}, \"marker\": {\"line\": {\"color\": \"#E5ECF6\", \"width\": 0.5}}, \"type\": \"bar\"}], \"barpolar\": [{\"marker\": {\"line\": {\"color\": \"#E5ECF6\", \"width\": 0.5}}, \"type\": \"barpolar\"}], \"carpet\": [{\"aaxis\": {\"endlinecolor\": \"#2a3f5f\", \"gridcolor\": \"white\", \"linecolor\": \"white\", \"minorgridcolor\": \"white\", \"startlinecolor\": \"#2a3f5f\"}, \"baxis\": {\"endlinecolor\": \"#2a3f5f\", \"gridcolor\": \"white\", \"linecolor\": \"white\", \"minorgridcolor\": \"white\", \"startlinecolor\": \"#2a3f5f\"}, \"type\": \"carpet\"}], \"choropleth\": [{\"colorbar\": {\"outlinewidth\": 0, \"ticks\": \"\"}, \"type\": \"choropleth\"}], \"contour\": [{\"colorbar\": {\"outlinewidth\": 0, \"ticks\": \"\"}, \"colorscale\": [[0.0, \"#0d0887\"], [0.1111111111111111, \"#46039f\"], [0.2222222222222222, \"#7201a8\"], [0.3333333333333333, \"#9c179e\"], [0.4444444444444444, \"#bd3786\"], [0.5555555555555556, \"#d8576b\"], [0.6666666666666666, \"#ed7953\"], [0.7777777777777778, \"#fb9f3a\"], [0.8888888888888888, \"#fdca26\"], [1.0, \"#f0f921\"]], \"type\": \"contour\"}], \"contourcarpet\": [{\"colorbar\": {\"outlinewidth\": 0, \"ticks\": \"\"}, \"type\": \"contourcarpet\"}], \"heatmap\": [{\"colorbar\": {\"outlinewidth\": 0, \"ticks\": \"\"}, \"colorscale\": [[0.0, \"#0d0887\"], [0.1111111111111111, \"#46039f\"], [0.2222222222222222, \"#7201a8\"], [0.3333333333333333, \"#9c179e\"], [0.4444444444444444, \"#bd3786\"], [0.5555555555555556, \"#d8576b\"], [0.6666666666666666, \"#ed7953\"], [0.7777777777777778, \"#fb9f3a\"], [0.8888888888888888, \"#fdca26\"], [1.0, \"#f0f921\"]], \"type\": \"heatmap\"}], \"heatmapgl\": [{\"colorbar\": {\"outlinewidth\": 0, \"ticks\": \"\"}, \"colorscale\": [[0.0, \"#0d0887\"], [0.1111111111111111, \"#46039f\"], [0.2222222222222222, \"#7201a8\"], [0.3333333333333333, \"#9c179e\"], [0.4444444444444444, \"#bd3786\"], [0.5555555555555556, \"#d8576b\"], [0.6666666666666666, \"#ed7953\"], [0.7777777777777778, \"#fb9f3a\"], [0.8888888888888888, \"#fdca26\"], [1.0, \"#f0f921\"]], \"type\": \"heatmapgl\"}], \"histogram\": [{\"marker\": {\"colorbar\": {\"outlinewidth\": 0, \"ticks\": \"\"}}, \"type\": \"histogram\"}], \"histogram2d\": [{\"colorbar\": {\"outlinewidth\": 0, \"ticks\": \"\"}, \"colorscale\": [[0.0, \"#0d0887\"], [0.1111111111111111, \"#46039f\"], [0.2222222222222222, \"#7201a8\"], [0.3333333333333333, \"#9c179e\"], [0.4444444444444444, \"#bd3786\"], [0.5555555555555556, \"#d8576b\"], [0.6666666666666666, \"#ed7953\"], [0.7777777777777778, \"#fb9f3a\"], [0.8888888888888888, \"#fdca26\"], [1.0, \"#f0f921\"]], \"type\": \"histogram2d\"}], \"histogram2dcontour\": [{\"colorbar\": {\"outlinewidth\": 0, \"ticks\": \"\"}, \"colorscale\": [[0.0, \"#0d0887\"], [0.1111111111111111, \"#46039f\"], [0.2222222222222222, \"#7201a8\"], [0.3333333333333333, \"#9c179e\"], [0.4444444444444444, \"#bd3786\"], [0.5555555555555556, \"#d8576b\"], [0.6666666666666666, \"#ed7953\"], [0.7777777777777778, \"#fb9f3a\"], [0.8888888888888888, \"#fdca26\"], [1.0, \"#f0f921\"]], \"type\": \"histogram2dcontour\"}], \"mesh3d\": [{\"colorbar\": {\"outlinewidth\": 0, \"ticks\": \"\"}, \"type\": \"mesh3d\"}], \"parcoords\": [{\"line\": {\"colorbar\": {\"outlinewidth\": 0, \"ticks\": \"\"}}, \"type\": \"parcoords\"}], \"pie\": [{\"automargin\": true, \"type\": \"pie\"}], \"scatter\": [{\"marker\": {\"colorbar\": {\"outlinewidth\": 0, \"ticks\": \"\"}}, \"type\": \"scatter\"}], \"scatter3d\": [{\"line\": {\"colorbar\": {\"outlinewidth\": 0, \"ticks\": \"\"}}, \"marker\": {\"colorbar\": {\"outlinewidth\": 0, \"ticks\": \"\"}}, \"type\": \"scatter3d\"}], \"scattercarpet\": [{\"marker\": {\"colorbar\": {\"outlinewidth\": 0, \"ticks\": \"\"}}, \"type\": \"scattercarpet\"}], \"scattergeo\": [{\"marker\": {\"colorbar\": {\"outlinewidth\": 0, \"ticks\": \"\"}}, \"type\": \"scattergeo\"}], \"scattergl\": [{\"marker\": {\"colorbar\": {\"outlinewidth\": 0, \"ticks\": \"\"}}, \"type\": \"scattergl\"}], \"scattermapbox\": [{\"marker\": {\"colorbar\": {\"outlinewidth\": 0, \"ticks\": \"\"}}, \"type\": \"scattermapbox\"}], \"scatterpolar\": [{\"marker\": {\"colorbar\": {\"outlinewidth\": 0, \"ticks\": \"\"}}, \"type\": \"scatterpolar\"}], \"scatterpolargl\": [{\"marker\": {\"colorbar\": {\"outlinewidth\": 0, \"ticks\": \"\"}}, \"type\": \"scatterpolargl\"}], \"scatterternary\": [{\"marker\": {\"colorbar\": {\"outlinewidth\": 0, \"ticks\": \"\"}}, \"type\": \"scatterternary\"}], \"surface\": [{\"colorbar\": {\"outlinewidth\": 0, \"ticks\": \"\"}, \"colorscale\": [[0.0, \"#0d0887\"], [0.1111111111111111, \"#46039f\"], [0.2222222222222222, \"#7201a8\"], [0.3333333333333333, \"#9c179e\"], [0.4444444444444444, \"#bd3786\"], [0.5555555555555556, \"#d8576b\"], [0.6666666666666666, \"#ed7953\"], [0.7777777777777778, \"#fb9f3a\"], [0.8888888888888888, \"#fdca26\"], [1.0, \"#f0f921\"]], \"type\": \"surface\"}], \"table\": [{\"cells\": {\"fill\": {\"color\": \"#EBF0F8\"}, \"line\": {\"color\": \"white\"}}, \"header\": {\"fill\": {\"color\": \"#C8D4E3\"}, \"line\": {\"color\": \"white\"}}, \"type\": \"table\"}]}, \"layout\": {\"annotationdefaults\": {\"arrowcolor\": \"#2a3f5f\", \"arrowhead\": 0, \"arrowwidth\": 1}, \"coloraxis\": {\"colorbar\": {\"outlinewidth\": 0, \"ticks\": \"\"}}, \"colorscale\": {\"diverging\": [[0, \"#8e0152\"], [0.1, \"#c51b7d\"], [0.2, \"#de77ae\"], [0.3, \"#f1b6da\"], [0.4, \"#fde0ef\"], [0.5, \"#f7f7f7\"], [0.6, \"#e6f5d0\"], [0.7, \"#b8e186\"], [0.8, \"#7fbc41\"], [0.9, \"#4d9221\"], [1, \"#276419\"]], \"sequential\": [[0.0, \"#0d0887\"], [0.1111111111111111, \"#46039f\"], [0.2222222222222222, \"#7201a8\"], [0.3333333333333333, \"#9c179e\"], [0.4444444444444444, \"#bd3786\"], [0.5555555555555556, \"#d8576b\"], [0.6666666666666666, \"#ed7953\"], [0.7777777777777778, \"#fb9f3a\"], [0.8888888888888888, \"#fdca26\"], [1.0, \"#f0f921\"]], \"sequentialminus\": [[0.0, \"#0d0887\"], [0.1111111111111111, \"#46039f\"], [0.2222222222222222, \"#7201a8\"], [0.3333333333333333, \"#9c179e\"], [0.4444444444444444, \"#bd3786\"], [0.5555555555555556, \"#d8576b\"], [0.6666666666666666, \"#ed7953\"], [0.7777777777777778, \"#fb9f3a\"], [0.8888888888888888, \"#fdca26\"], [1.0, \"#f0f921\"]]}, \"colorway\": [\"#636efa\", \"#EF553B\", \"#00cc96\", \"#ab63fa\", \"#FFA15A\", \"#19d3f3\", \"#FF6692\", \"#B6E880\", \"#FF97FF\", \"#FECB52\"], \"font\": {\"color\": \"#2a3f5f\"}, \"geo\": {\"bgcolor\": \"white\", \"lakecolor\": \"white\", \"landcolor\": \"#E5ECF6\", \"showlakes\": true, \"showland\": true, \"subunitcolor\": \"white\"}, \"hoverlabel\": {\"align\": \"left\"}, \"hovermode\": \"closest\", \"mapbox\": {\"style\": \"light\"}, \"paper_bgcolor\": \"white\", \"plot_bgcolor\": \"#E5ECF6\", \"polar\": {\"angularaxis\": {\"gridcolor\": \"white\", \"linecolor\": \"white\", \"ticks\": \"\"}, \"bgcolor\": \"#E5ECF6\", \"radialaxis\": {\"gridcolor\": \"white\", \"linecolor\": \"white\", \"ticks\": \"\"}}, \"scene\": {\"xaxis\": {\"backgroundcolor\": \"#E5ECF6\", \"gridcolor\": \"white\", \"gridwidth\": 2, \"linecolor\": \"white\", \"showbackground\": true, \"ticks\": \"\", \"zerolinecolor\": \"white\"}, \"yaxis\": {\"backgroundcolor\": \"#E5ECF6\", \"gridcolor\": \"white\", \"gridwidth\": 2, \"linecolor\": \"white\", \"showbackground\": true, \"ticks\": \"\", \"zerolinecolor\": \"white\"}, \"zaxis\": {\"backgroundcolor\": \"#E5ECF6\", \"gridcolor\": \"white\", \"gridwidth\": 2, \"linecolor\": \"white\", \"showbackground\": true, \"ticks\": \"\", \"zerolinecolor\": \"white\"}}, \"shapedefaults\": {\"line\": {\"color\": \"#2a3f5f\"}}, \"ternary\": {\"aaxis\": {\"gridcolor\": \"white\", \"linecolor\": \"white\", \"ticks\": \"\"}, \"baxis\": {\"gridcolor\": \"white\", \"linecolor\": \"white\", \"ticks\": \"\"}, \"bgcolor\": \"#E5ECF6\", \"caxis\": {\"gridcolor\": \"white\", \"linecolor\": \"white\", \"ticks\": \"\"}}, \"title\": {\"x\": 0.05}, \"xaxis\": {\"automargin\": true, \"gridcolor\": \"white\", \"linecolor\": \"white\", \"ticks\": \"\", \"title\": {\"standoff\": 15}, \"zerolinecolor\": \"white\", \"zerolinewidth\": 2}, \"yaxis\": {\"automargin\": true, \"gridcolor\": \"white\", \"linecolor\": \"white\", \"ticks\": \"\", \"title\": {\"standoff\": 15}, \"zerolinecolor\": \"white\", \"zerolinewidth\": 2}}}, \"title\": {\"text\": \"Model Comparison\"}, \"yaxis\": {\"title\": {\"text\": \"Scores\"}}},\n",
       "                        {\"responsive\": true}\n",
       "                    ).then(function(){\n",
       "                            \n",
       "var gd = document.getElementById('58711875-d188-4afd-bf05-deb68fa34838');\n",
       "var x = new MutationObserver(function (mutations, observer) {{\n",
       "        var display = window.getComputedStyle(gd).display;\n",
       "        if (!display || display === 'none') {{\n",
       "            console.log([gd, 'removed!']);\n",
       "            Plotly.purge(gd);\n",
       "            observer.disconnect();\n",
       "        }}\n",
       "}});\n",
       "\n",
       "// Listen for the removal of the full notebook cells\n",
       "var notebookContainer = gd.closest('#notebook-container');\n",
       "if (notebookContainer) {{\n",
       "    x.observe(notebookContainer, {childList: true});\n",
       "}}\n",
       "\n",
       "// Listen for the clearing of the current output cell\n",
       "var outputEl = gd.closest('.output');\n",
       "if (outputEl) {{\n",
       "    x.observe(outputEl, {childList: true});\n",
       "}}\n",
       "\n",
       "                        })\n",
       "                };\n",
       "                });\n",
       "            </script>\n",
       "        </div>"
      ]
     },
     "metadata": {},
     "output_type": "display_data"
    }
   ],
   "source": [
    "# Plot the scores for a visual comparison\n",
    "fig = go.Figure(\n",
    "    data=[\n",
    "        go.Bar(\n",
    "            name=\"RMSE\",\n",
    "            x=scores_df[\"Model\"],\n",
    "            y=scores_df[\"RMSE\"],\n",
    "            offsetgroup=0,\n",
    "        ),\n",
    "        go.Bar(\n",
    "            name=\"R-squared\",\n",
    "            x=scores_df[\"Model\"],\n",
    "            y=scores_df[\"R-squared\"],\n",
    "            offsetgroup=1,\n",
    "        ),\n",
    "    ],\n",
    "    layout=go.Layout(\n",
    "        title=\"Model Comparison\",\n",
    "        yaxis_title=\"Scores\"\n",
    "        \n",
    "    )\n",
    ")\n",
    "fig.show()"
   ]
  },
  {
   "cell_type": "markdown",
   "metadata": {},
   "source": [
    "R-squared represents the coefficient of how well the values fit compared to the original values. The value from 0 to 1 interpreted as percentages. The higher the value is, the better the model is. RMSE is the measure of error, so the lower the value is, the better. I can see from the graph above that random forest regression had the highest R-squared of 0.67 (67%) and also had the lowest RMSE score of 0.27. Gradient boosting regression wasn't very far behind at 0.66 (66%) R-squared and also 0.27 RMSE. Linear, ridge and lasso regressions were the worst performing models with relatively similar scores around 0.50 (50%) R-squared and 0.33 RSME."
   ]
  }
 ],
 "metadata": {
  "kernelspec": {
   "display_name": "Python 3",
   "language": "python",
   "name": "python3"
  },
  "language_info": {
   "codemirror_mode": {
    "name": "ipython",
    "version": 3
   },
   "file_extension": ".py",
   "mimetype": "text/x-python",
   "name": "python",
   "nbconvert_exporter": "python",
   "pygments_lexer": "ipython3",
   "version": "3.7.4"
  }
 },
 "nbformat": 4,
 "nbformat_minor": 2
}
