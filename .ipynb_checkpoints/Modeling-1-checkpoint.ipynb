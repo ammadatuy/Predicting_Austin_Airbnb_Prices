{
 "cells": [
  {
   "cell_type": "markdown",
   "metadata": {},
   "source": [
    "# Fitting Linear Regression with sklearn"
   ]
  },
  {
   "cell_type": "code",
   "execution_count": 23,
   "metadata": {},
   "outputs": [
    {
     "data": {
      "text/html": [
       "        <script type=\"text/javascript\">\n",
       "        window.PlotlyConfig = {MathJaxConfig: 'local'};\n",
       "        if (window.MathJax) {MathJax.Hub.Config({SVG: {font: \"STIX-Web\"}});}\n",
       "        if (typeof require !== 'undefined') {\n",
       "        require.undef(\"plotly\");\n",
       "        requirejs.config({\n",
       "            paths: {\n",
       "                'plotly': ['https://cdn.plot.ly/plotly-latest.min']\n",
       "            }\n",
       "        });\n",
       "        require(['plotly'], function(Plotly) {\n",
       "            window._Plotly = Plotly;\n",
       "        });\n",
       "        }\n",
       "        </script>\n",
       "        "
      ]
     },
     "metadata": {},
     "output_type": "display_data"
    },
    {
     "data": {
      "text/html": [
       "        <script type=\"text/javascript\">\n",
       "        window.PlotlyConfig = {MathJaxConfig: 'local'};\n",
       "        if (window.MathJax) {MathJax.Hub.Config({SVG: {font: \"STIX-Web\"}});}\n",
       "        if (typeof require !== 'undefined') {\n",
       "        require.undef(\"plotly\");\n",
       "        requirejs.config({\n",
       "            paths: {\n",
       "                'plotly': ['https://cdn.plot.ly/plotly-latest.min']\n",
       "            }\n",
       "        });\n",
       "        require(['plotly'], function(Plotly) {\n",
       "            window._Plotly = Plotly;\n",
       "        });\n",
       "        }\n",
       "        </script>\n",
       "        "
      ]
     },
     "metadata": {},
     "output_type": "display_data"
    }
   ],
   "source": [
    "# special IPython command to prepare the notebook for matplotlib and other libraries\n",
    "%matplotlib inline \n",
    "\n",
    "import numpy as np\n",
    "import pandas as pd\n",
    "import scipy.stats as stats\n",
    "import matplotlib.pyplot as plt\n",
    "import sklearn\n",
    "import seaborn as sns\n",
    "import cufflinks as cf\n",
    "import plotly\n",
    "from plotly.offline import download_plotlyjs,init_notebook_mode,plot,iplot\n",
    "init_notebook_mode(connected=True)\n",
    "cf.go_offline()\n",
    "\n",
    "from sklearn import linear_model\n",
    "from sklearn.linear_model import (LinearRegression, Lasso)\n",
    "from sklearn.preprocessing import StandardScaler\n",
    "from sklearn.pipeline import Pipeline\n",
    "from sklearn.metrics import mean_squared_error, r2_score\n",
    "from sklearn.model_selection import GridSearchCV, train_test_split, cross_val_score, cross_val_predict\n",
    "import warnings\n",
    "warnings.filterwarnings(\"ignore\")\n",
    "\n",
    "# special matplotlib argument for improved plots\n",
    "from matplotlib import rcParams\n",
    "sns.set_style(\"whitegrid\")\n",
    "sns.set_context(\"poster\")"
   ]
  },
  {
   "cell_type": "code",
   "execution_count": 24,
   "metadata": {
    "scrolled": false
   },
   "outputs": [
    {
     "data": {
      "text/html": [
       "<div>\n",
       "<style scoped>\n",
       "    .dataframe tbody tr th:only-of-type {\n",
       "        vertical-align: middle;\n",
       "    }\n",
       "\n",
       "    .dataframe tbody tr th {\n",
       "        vertical-align: top;\n",
       "    }\n",
       "\n",
       "    .dataframe thead th {\n",
       "        text-align: right;\n",
       "    }\n",
       "</style>\n",
       "<table border=\"1\" class=\"dataframe\">\n",
       "  <thead>\n",
       "    <tr style=\"text-align: right;\">\n",
       "      <th></th>\n",
       "      <th>listing_id</th>\n",
       "      <th>zip_code</th>\n",
       "      <th>latitude</th>\n",
       "      <th>longitude</th>\n",
       "      <th>room_type</th>\n",
       "      <th>accommodates</th>\n",
       "      <th>bathrooms</th>\n",
       "      <th>bedrooms</th>\n",
       "      <th>beds</th>\n",
       "      <th>price</th>\n",
       "      <th>minimum_nights</th>\n",
       "      <th>number_of_reviews</th>\n",
       "      <th>review_scores_rating</th>\n",
       "      <th>neighbourhood</th>\n",
       "      <th>number_of_bookings</th>\n",
       "      <th>bedroom_bath_ratio</th>\n",
       "    </tr>\n",
       "  </thead>\n",
       "  <tbody>\n",
       "    <tr>\n",
       "      <td>0</td>\n",
       "      <td>2265</td>\n",
       "      <td>78702</td>\n",
       "      <td>30.27750</td>\n",
       "      <td>-97.71398</td>\n",
       "      <td>Entire home/apt</td>\n",
       "      <td>4</td>\n",
       "      <td>2.0</td>\n",
       "      <td>2.0</td>\n",
       "      <td>2.0</td>\n",
       "      <td>225.0</td>\n",
       "      <td>30</td>\n",
       "      <td>24</td>\n",
       "      <td>93.0</td>\n",
       "      <td>East Downtown</td>\n",
       "      <td>365.0</td>\n",
       "      <td>100.0</td>\n",
       "    </tr>\n",
       "    <tr>\n",
       "      <td>1</td>\n",
       "      <td>5245</td>\n",
       "      <td>78702</td>\n",
       "      <td>30.27577</td>\n",
       "      <td>-97.71379</td>\n",
       "      <td>Private room</td>\n",
       "      <td>2</td>\n",
       "      <td>1.0</td>\n",
       "      <td>1.0</td>\n",
       "      <td>2.0</td>\n",
       "      <td>100.0</td>\n",
       "      <td>30</td>\n",
       "      <td>9</td>\n",
       "      <td>91.0</td>\n",
       "      <td>East Downtown</td>\n",
       "      <td>354.0</td>\n",
       "      <td>100.0</td>\n",
       "    </tr>\n",
       "    <tr>\n",
       "      <td>2</td>\n",
       "      <td>5456</td>\n",
       "      <td>78702</td>\n",
       "      <td>30.26112</td>\n",
       "      <td>-97.73448</td>\n",
       "      <td>Entire home/apt</td>\n",
       "      <td>3</td>\n",
       "      <td>1.0</td>\n",
       "      <td>1.0</td>\n",
       "      <td>2.0</td>\n",
       "      <td>95.0</td>\n",
       "      <td>2</td>\n",
       "      <td>499</td>\n",
       "      <td>96.0</td>\n",
       "      <td>East Downtown</td>\n",
       "      <td>74.0</td>\n",
       "      <td>100.0</td>\n",
       "    </tr>\n",
       "    <tr>\n",
       "      <td>3</td>\n",
       "      <td>75174</td>\n",
       "      <td>78702</td>\n",
       "      <td>30.24773</td>\n",
       "      <td>-97.72584</td>\n",
       "      <td>Entire home/apt</td>\n",
       "      <td>3</td>\n",
       "      <td>1.0</td>\n",
       "      <td>1.0</td>\n",
       "      <td>1.0</td>\n",
       "      <td>130.0</td>\n",
       "      <td>2</td>\n",
       "      <td>249</td>\n",
       "      <td>98.0</td>\n",
       "      <td>East Downtown</td>\n",
       "      <td>131.0</td>\n",
       "      <td>100.0</td>\n",
       "    </tr>\n",
       "    <tr>\n",
       "      <td>4</td>\n",
       "      <td>76911</td>\n",
       "      <td>78702</td>\n",
       "      <td>30.26775</td>\n",
       "      <td>-97.72695</td>\n",
       "      <td>Entire home/apt</td>\n",
       "      <td>10</td>\n",
       "      <td>3.0</td>\n",
       "      <td>5.0</td>\n",
       "      <td>12.0</td>\n",
       "      <td>821.0</td>\n",
       "      <td>2</td>\n",
       "      <td>126</td>\n",
       "      <td>99.0</td>\n",
       "      <td>East Downtown</td>\n",
       "      <td>56.0</td>\n",
       "      <td>60.0</td>\n",
       "    </tr>\n",
       "  </tbody>\n",
       "</table>\n",
       "</div>"
      ],
      "text/plain": [
       "   listing_id  zip_code  latitude  longitude        room_type  accommodates  \\\n",
       "0        2265     78702  30.27750  -97.71398  Entire home/apt             4   \n",
       "1        5245     78702  30.27577  -97.71379     Private room             2   \n",
       "2        5456     78702  30.26112  -97.73448  Entire home/apt             3   \n",
       "3       75174     78702  30.24773  -97.72584  Entire home/apt             3   \n",
       "4       76911     78702  30.26775  -97.72695  Entire home/apt            10   \n",
       "\n",
       "   bathrooms  bedrooms  beds  price  minimum_nights  number_of_reviews  \\\n",
       "0        2.0       2.0   2.0  225.0              30                 24   \n",
       "1        1.0       1.0   2.0  100.0              30                  9   \n",
       "2        1.0       1.0   2.0   95.0               2                499   \n",
       "3        1.0       1.0   1.0  130.0               2                249   \n",
       "4        3.0       5.0  12.0  821.0               2                126   \n",
       "\n",
       "   review_scores_rating  neighbourhood  number_of_bookings  bedroom_bath_ratio  \n",
       "0                  93.0  East Downtown               365.0               100.0  \n",
       "1                  91.0  East Downtown               354.0               100.0  \n",
       "2                  96.0  East Downtown                74.0               100.0  \n",
       "3                  98.0  East Downtown               131.0               100.0  \n",
       "4                  99.0  East Downtown                56.0                60.0  "
      ]
     },
     "execution_count": 24,
     "metadata": {},
     "output_type": "execute_result"
    }
   ],
   "source": [
    "# Read in the csv file\n",
    "original_df = pd.read_csv('Data/airbnb_clean.csv')\n",
    "original_df.head()"
   ]
  },
  {
   "cell_type": "code",
   "execution_count": 25,
   "metadata": {
    "scrolled": true
   },
   "outputs": [
    {
     "data": {
      "text/html": [
       "<div>\n",
       "<style scoped>\n",
       "    .dataframe tbody tr th:only-of-type {\n",
       "        vertical-align: middle;\n",
       "    }\n",
       "\n",
       "    .dataframe tbody tr th {\n",
       "        vertical-align: top;\n",
       "    }\n",
       "\n",
       "    .dataframe thead th {\n",
       "        text-align: right;\n",
       "    }\n",
       "</style>\n",
       "<table border=\"1\" class=\"dataframe\">\n",
       "  <thead>\n",
       "    <tr style=\"text-align: right;\">\n",
       "      <th></th>\n",
       "      <th>listing_id</th>\n",
       "      <th>zip_code</th>\n",
       "      <th>latitude</th>\n",
       "      <th>longitude</th>\n",
       "      <th>room_type</th>\n",
       "      <th>accommodates</th>\n",
       "      <th>bathrooms</th>\n",
       "      <th>bedrooms</th>\n",
       "      <th>beds</th>\n",
       "      <th>price</th>\n",
       "      <th>minimum_nights</th>\n",
       "      <th>number_of_reviews</th>\n",
       "      <th>review_scores_rating</th>\n",
       "      <th>neighbourhood</th>\n",
       "      <th>number_of_bookings</th>\n",
       "      <th>bedroom_bath_ratio</th>\n",
       "    </tr>\n",
       "  </thead>\n",
       "  <tbody>\n",
       "    <tr>\n",
       "      <td>0</td>\n",
       "      <td>2265</td>\n",
       "      <td>78702</td>\n",
       "      <td>30.27750</td>\n",
       "      <td>-97.71398</td>\n",
       "      <td>Entire home/apt</td>\n",
       "      <td>4</td>\n",
       "      <td>2.0</td>\n",
       "      <td>2.0</td>\n",
       "      <td>2.0</td>\n",
       "      <td>225.0</td>\n",
       "      <td>30</td>\n",
       "      <td>24</td>\n",
       "      <td>93.0</td>\n",
       "      <td>East Downtown</td>\n",
       "      <td>365.0</td>\n",
       "      <td>100.0</td>\n",
       "    </tr>\n",
       "    <tr>\n",
       "      <td>1</td>\n",
       "      <td>5245</td>\n",
       "      <td>78702</td>\n",
       "      <td>30.27577</td>\n",
       "      <td>-97.71379</td>\n",
       "      <td>Private room</td>\n",
       "      <td>2</td>\n",
       "      <td>1.0</td>\n",
       "      <td>1.0</td>\n",
       "      <td>2.0</td>\n",
       "      <td>100.0</td>\n",
       "      <td>30</td>\n",
       "      <td>9</td>\n",
       "      <td>91.0</td>\n",
       "      <td>East Downtown</td>\n",
       "      <td>354.0</td>\n",
       "      <td>100.0</td>\n",
       "    </tr>\n",
       "    <tr>\n",
       "      <td>2</td>\n",
       "      <td>5456</td>\n",
       "      <td>78702</td>\n",
       "      <td>30.26112</td>\n",
       "      <td>-97.73448</td>\n",
       "      <td>Entire home/apt</td>\n",
       "      <td>3</td>\n",
       "      <td>1.0</td>\n",
       "      <td>1.0</td>\n",
       "      <td>2.0</td>\n",
       "      <td>95.0</td>\n",
       "      <td>2</td>\n",
       "      <td>499</td>\n",
       "      <td>96.0</td>\n",
       "      <td>East Downtown</td>\n",
       "      <td>74.0</td>\n",
       "      <td>100.0</td>\n",
       "    </tr>\n",
       "    <tr>\n",
       "      <td>3</td>\n",
       "      <td>75174</td>\n",
       "      <td>78702</td>\n",
       "      <td>30.24773</td>\n",
       "      <td>-97.72584</td>\n",
       "      <td>Entire home/apt</td>\n",
       "      <td>3</td>\n",
       "      <td>1.0</td>\n",
       "      <td>1.0</td>\n",
       "      <td>1.0</td>\n",
       "      <td>130.0</td>\n",
       "      <td>2</td>\n",
       "      <td>249</td>\n",
       "      <td>98.0</td>\n",
       "      <td>East Downtown</td>\n",
       "      <td>131.0</td>\n",
       "      <td>100.0</td>\n",
       "    </tr>\n",
       "    <tr>\n",
       "      <td>4</td>\n",
       "      <td>76911</td>\n",
       "      <td>78702</td>\n",
       "      <td>30.26775</td>\n",
       "      <td>-97.72695</td>\n",
       "      <td>Entire home/apt</td>\n",
       "      <td>10</td>\n",
       "      <td>3.0</td>\n",
       "      <td>5.0</td>\n",
       "      <td>12.0</td>\n",
       "      <td>821.0</td>\n",
       "      <td>2</td>\n",
       "      <td>126</td>\n",
       "      <td>99.0</td>\n",
       "      <td>East Downtown</td>\n",
       "      <td>56.0</td>\n",
       "      <td>60.0</td>\n",
       "    </tr>\n",
       "  </tbody>\n",
       "</table>\n",
       "</div>"
      ],
      "text/plain": [
       "   listing_id  zip_code  latitude  longitude        room_type  accommodates  \\\n",
       "0        2265     78702  30.27750  -97.71398  Entire home/apt             4   \n",
       "1        5245     78702  30.27577  -97.71379     Private room             2   \n",
       "2        5456     78702  30.26112  -97.73448  Entire home/apt             3   \n",
       "3       75174     78702  30.24773  -97.72584  Entire home/apt             3   \n",
       "4       76911     78702  30.26775  -97.72695  Entire home/apt            10   \n",
       "\n",
       "   bathrooms  bedrooms  beds  price  minimum_nights  number_of_reviews  \\\n",
       "0        2.0       2.0   2.0  225.0              30                 24   \n",
       "1        1.0       1.0   2.0  100.0              30                  9   \n",
       "2        1.0       1.0   2.0   95.0               2                499   \n",
       "3        1.0       1.0   1.0  130.0               2                249   \n",
       "4        3.0       5.0  12.0  821.0               2                126   \n",
       "\n",
       "   review_scores_rating  neighbourhood  number_of_bookings  bedroom_bath_ratio  \n",
       "0                  93.0  East Downtown               365.0               100.0  \n",
       "1                  91.0  East Downtown               354.0               100.0  \n",
       "2                  96.0  East Downtown                74.0               100.0  \n",
       "3                  98.0  East Downtown               131.0               100.0  \n",
       "4                  99.0  East Downtown                56.0                60.0  "
      ]
     },
     "execution_count": 25,
     "metadata": {},
     "output_type": "execute_result"
    }
   ],
   "source": [
    "new_df = original_df.copy()\n",
    "new_df.head()"
   ]
  },
  {
   "cell_type": "markdown",
   "metadata": {},
   "source": [
    "# BASELINE MODELING WITH LINEAR REGRESSION"
   ]
  },
  {
   "cell_type": "markdown",
   "metadata": {},
   "source": [
    "First I will create a simple baseline linear regression model predicting price with just one predictor variable and then another with all of the predictor variables. This will serve as my baseline model to compare future models against."
   ]
  },
  {
   "cell_type": "markdown",
   "metadata": {},
   "source": [
    "To ease the prediction of price, the distribution should be normally distributed. From prior exploratory data analysis and statistical inference, I observed that the data was heavily skewed to the right which means it is not normally distributed. I will transform price to log10."
   ]
  },
  {
   "cell_type": "code",
   "execution_count": 26,
   "metadata": {},
   "outputs": [],
   "source": [
    "new_df['price'] = np.log10(new_df.price)"
   ]
  },
  {
   "cell_type": "markdown",
   "metadata": {},
   "source": [
    "Next we will drop some columns that I don't think I need in the regression model. These columns are the listing id, zip code, latitude and longitude."
   ]
  },
  {
   "cell_type": "code",
   "execution_count": 27,
   "metadata": {},
   "outputs": [],
   "source": [
    "# Drop columns\n",
    "drop_cols = ['listing_id', 'zip_code', 'latitude', 'longitude']\n",
    "new_df.drop(columns=drop_cols, axis=1, inplace=True)"
   ]
  },
  {
   "cell_type": "code",
   "execution_count": 28,
   "metadata": {
    "scrolled": false
   },
   "outputs": [
    {
     "name": "stdout",
     "output_type": "stream",
     "text": [
      "<class 'pandas.core.frame.DataFrame'>\n",
      "RangeIndex: 11333 entries, 0 to 11332\n",
      "Data columns (total 44 columns):\n",
      "accommodates                                11333 non-null int64\n",
      "bathrooms                                   11333 non-null float64\n",
      "bedrooms                                    11333 non-null float64\n",
      "beds                                        11333 non-null float64\n",
      "price                                       11333 non-null float64\n",
      "minimum_nights                              11333 non-null int64\n",
      "number_of_reviews                           11333 non-null int64\n",
      "review_scores_rating                        11333 non-null float64\n",
      "number_of_bookings                          11333 non-null float64\n",
      "bedroom_bath_ratio                          11333 non-null float64\n",
      "room_type_Hotel room                        11333 non-null uint8\n",
      "room_type_Private room                      11333 non-null uint8\n",
      "room_type_Shared room                       11333 non-null uint8\n",
      "neighbourhood_Balcones Civic Association    11333 non-null uint8\n",
      "neighbourhood_Barton Creek                  11333 non-null uint8\n",
      "neighbourhood_Brentwood                     11333 non-null uint8\n",
      "neighbourhood_Cherry Creek                  11333 non-null uint8\n",
      "neighbourhood_Circle C                      11333 non-null uint8\n",
      "neighbourhood_Copperfield                   11333 non-null uint8\n",
      "neighbourhood_Crestview                     11333 non-null uint8\n",
      "neighbourhood_Downtown                      11333 non-null uint8\n",
      "neighbourhood_East Downtown                 11333 non-null uint8\n",
      "neighbourhood_East Riverside                11333 non-null uint8\n",
      "neighbourhood_Gracywoods                    11333 non-null uint8\n",
      "neighbourhood_Highland                      11333 non-null uint8\n",
      "neighbourhood_Lamplight Village             11333 non-null uint8\n",
      "neighbourhood_Long Canyon                   11333 non-null uint8\n",
      "neighbourhood_MLK & 183                     11333 non-null uint8\n",
      "neighbourhood_McKinney                      11333 non-null uint8\n",
      "neighbourhood_Montopolis                    11333 non-null uint8\n",
      "neighbourhood_Mueller                       11333 non-null uint8\n",
      "neighbourhood_North Loop                    11333 non-null uint8\n",
      "neighbourhood_Northwest Hills               11333 non-null uint8\n",
      "neighbourhood_Oak Hill                      11333 non-null uint8\n",
      "neighbourhood_Old West Austin               11333 non-null uint8\n",
      "neighbourhood_SW Williamson Co.             11333 non-null uint8\n",
      "neighbourhood_Scofield Ridge                11333 non-null uint8\n",
      "neighbourhood_South Manchaca                11333 non-null uint8\n",
      "neighbourhood_Steiner Ranch                 11333 non-null uint8\n",
      "neighbourhood_Travis Heights                11333 non-null uint8\n",
      "neighbourhood_University Hills              11333 non-null uint8\n",
      "neighbourhood_University of Texas           11333 non-null uint8\n",
      "neighbourhood_Upper Boggy Creek             11333 non-null uint8\n",
      "neighbourhood_Westlake Hills                11333 non-null uint8\n",
      "dtypes: float64(7), int64(3), uint8(34)\n",
      "memory usage: 1.2 MB\n"
     ]
    }
   ],
   "source": [
    "# Perform get_dummies to encode categorical variables\n",
    "new_df = pd.get_dummies(new_df, columns=['room_type', 'neighbourhood'], \n",
    "                        drop_first=True)\n",
    "\n",
    "# Confirm that only numeric variables remain\n",
    "new_df.info()"
   ]
  },
  {
   "cell_type": "markdown",
   "metadata": {},
   "source": [
    "In the data wrangling part of the project, I flagged some rows for review_scores_rating and bedroom_bath_ratio to be -1. How to handle these??"
   ]
  },
  {
   "cell_type": "code",
   "execution_count": 29,
   "metadata": {},
   "outputs": [],
   "source": [
    "#new_df = new_df[new_df['review_scores_rating'] == -1]\n",
    "#new_df.shape"
   ]
  },
  {
   "cell_type": "markdown",
   "metadata": {},
   "source": [
    "The 'price' column will be dropped in the X variable and set as the target in the Y variable."
   ]
  },
  {
   "cell_type": "code",
   "execution_count": 30,
   "metadata": {},
   "outputs": [],
   "source": [
    "# Create X and Y\n",
    "X = new_df.loc[:, ~new_df.columns.isin(['price'])]\n",
    "Y = new_df[['price']]"
   ]
  },
  {
   "cell_type": "markdown",
   "metadata": {},
   "source": [
    "I will split the dataset into a training set and a testing set. Scikit-learn has a very straightforward train_test_split function for that."
   ]
  },
  {
   "cell_type": "code",
   "execution_count": 31,
   "metadata": {},
   "outputs": [],
   "source": [
    "# Split the dataset into the training set and test set\n",
    "# 80% of the data will be used for training and 20% will be used for testing\n",
    "xTrain, xTest, yTrain, yTest = train_test_split(X, Y, \n",
    "                                                test_size = 0.2, random_state = 0)"
   ]
  },
  {
   "cell_type": "markdown",
   "metadata": {},
   "source": [
    "Now I will build the regression model. First, let’s try a model with only one variable. I want to predict price by looking at just the number of bedrooms."
   ]
  },
  {
   "cell_type": "code",
   "execution_count": 32,
   "metadata": {},
   "outputs": [
    {
     "data": {
      "text/plain": [
       "LinearRegression(copy_X=True, fit_intercept=True, n_jobs=None, normalize=False)"
      ]
     },
     "execution_count": 32,
     "metadata": {},
     "output_type": "execute_result"
    }
   ],
   "source": [
    "model = LinearRegression()\n",
    "model.fit(xTrain[['bedrooms']], yTrain)"
   ]
  },
  {
   "cell_type": "code",
   "execution_count": 43,
   "metadata": {},
   "outputs": [
    {
     "name": "stdout",
     "output_type": "stream",
     "text": [
      "R-squared: 0.4034726108223946\n",
      "RSME: 0.1313996204618257\n"
     ]
    }
   ],
   "source": [
    "\n",
    "model_predict = cross_val_predict(model, X, Y, cv=10)\n",
    "accuracy_lf = r2_score(Y, model_predict)\n",
    "x = mean_squared_error(Y, model_predict)\n",
    "print('R-squared:', accuracy_lf)\n",
    "print('RSME:', x)"
   ]
  },
  {
   "cell_type": "markdown",
   "metadata": {},
   "source": [
    "Now that I have my model, I can check how well it performs. Some good evaluation metrics for linear regression are mean squared error and the R² score. I will do this for the training set and test set, and then compare the two. "
   ]
  },
  {
   "cell_type": "code",
   "execution_count": 106,
   "metadata": {
    "scrolled": true
   },
   "outputs": [],
   "source": [
    "# Calculate MSE and R² for the training set\n",
    "yTrainPredicted = model.predict(xTrain[['bedrooms']])\n",
    "mse_yTrain = mean_squared_error(yTrain, yTrainPredicted)\n",
    "r2_yTrain = r2_score(yTrain, yTrainPredicted)\n",
    "\n",
    "# Calculate MSE and R² for the test set\n",
    "yTestPredicted = model.predict(xTest[['bedrooms']])\n",
    "mse_yTest = mean_squared_error(yTest, yTestPredicted)\n",
    "r2_yTest = r2_score(yTest, yTestPredicted)"
   ]
  },
  {
   "cell_type": "code",
   "execution_count": 107,
   "metadata": {
    "scrolled": true
   },
   "outputs": [
    {
     "name": "stdout",
     "output_type": "stream",
     "text": [
      " MSE_training  R²_training  MSE_test   R²_test\n",
      "     0.161641     0.268748  0.151602  0.301757\n"
     ]
    }
   ],
   "source": [
    "# Create a dataframe to contain the mse and R² results for training and test sets\n",
    "metrics = pd.DataFrame([{'MSE_training':mse_yTrain, 'R²_training':r2_yTrain, \n",
    "                         'MSE_test':mse_yTest, 'R²_test':r2_yTest}])\n",
    "\n",
    "print(metrics.to_string(index=False))"
   ]
  },
  {
   "cell_type": "markdown",
   "metadata": {},
   "source": [
    "There is no correct value for MSE but the lower the value, the better the fit. Similarly, there is also no correct answer as to what R2 should be but the higher the value, the better. R² value can range from 0 to 1. As the R² value close to 1, the model will make better predictions.\n",
    "\n",
    "The model produced a mean squared error of 0.15 and R² of 0.30 which is not very good. I will try to improve the model by using all variables."
   ]
  },
  {
   "cell_type": "code",
   "execution_count": 108,
   "metadata": {
    "scrolled": false
   },
   "outputs": [],
   "source": [
    "model = LinearRegression()\n",
    "model.fit(xTrain, yTrain)\n",
    "\n",
    "yTrainPredicted = cross_val_predict(model, X, Y, cv=10)\n",
    "r2_yTrain = r2_score(Y, model_predict)\n",
    "mse_yTrain = mean_squared_error(Y, model_predict)\n",
    "print('RSME:', mse_yTrain)\n",
    "print('R-squared:', r2_yTrain)\n",
    "\n",
    "\n",
    "\n",
    "# Calculate MSE and R² for the training set\n",
    "yTrainPredicted = model.predict(xTrain)\n",
    "mse_yTrain = mean_squared_error(yTrain, yTrainPredicted)\n",
    "r2_yTrain = r2_score(yTrain, yTrainPredicted)\n",
    "\n",
    "# Calculate MSE and R² for the test set\n",
    "yTestPredicted = model.predict(xTest)\n",
    "mse_yTest = mean_squared_error(yTest, yTestPredicted)\n",
    "r2_yTest = r2_score(yTest, yTestPredicted)"
   ]
  },
  {
   "cell_type": "code",
   "execution_count": 109,
   "metadata": {},
   "outputs": [
    {
     "name": "stdout",
     "output_type": "stream",
     "text": [
      " MSE_training  R²_training  MSE_test   R²_test\n",
      "     0.109109       0.5064  0.107708  0.503923\n"
     ]
    }
   ],
   "source": [
    "# Create a dataframe to contain the mse and R² results for training and test sets\n",
    "metrics = pd.DataFrame([{'MSE_training':mse_yTrain, 'R²_training':r2_yTrain, \n",
    "                         'MSE_test':mse_yTest, 'R²_test':r2_yTest}])\n",
    "\n",
    "print(metrics.to_string(index=False))"
   ]
  },
  {
   "cell_type": "markdown",
   "metadata": {},
   "source": [
    "The MSE score has decreased to 0.11 and the R² score has increased to 0.50 which is an improvement although still not that great. By plotting the true Y values of my test set and the Y values that my model predicts, I can inspect its performance visually."
   ]
  },
  {
   "cell_type": "code",
   "execution_count": 110,
   "metadata": {
    "scrolled": true
   },
   "outputs": [
    {
     "data": {
      "image/png": "[encoded data removed]",
      "text/plain": [
       "<Figure size 432x288 with 1 Axes>"
      ]
     },
     "metadata": {},
     "output_type": "display_data"
    }
   ],
   "source": [
    "# Plot predicted values against the actual values \n",
    "fig, ax = plt.subplots()\n",
    "ax.scatter(yTest, yTestPredicted)\n",
    "ax.plot([yTest.min(), yTest.max()], [yTest.min(), yTest.max()], 'k--', lw=4)\n",
    "ax.set_xlabel('measured')\n",
    "ax.set_ylabel('predicted')\n",
    "plt.show()"
   ]
  },
  {
   "cell_type": "code",
   "execution_count": null,
   "metadata": {},
   "outputs": [],
   "source": [
    "plt.scatter(BOS2.fittedvalues, BOS2.resid)\n",
    "plt.xlabel('Fitted Values')\n",
    "plt.ylabel('Residuals')\n",
    "plt.show()"
   ]
  },
  {
   "cell_type": "markdown",
   "metadata": {},
   "source": [
    "A visual inspection of the performance usually reveals some interesting findings. In this case, I can see that the data seems mostly linear but with many outliers towards the higher end. \n",
    "\n",
    "In the case of multivariable linear regression, the regression model has to find the most optimal coefficients for all the variables. "
   ]
  },
  {
   "cell_type": "code",
   "execution_count": 111,
   "metadata": {},
   "outputs": [
    {
     "data": {
      "text/html": [
       "<div>\n",
       "<style scoped>\n",
       "    .dataframe tbody tr th:only-of-type {\n",
       "        vertical-align: middle;\n",
       "    }\n",
       "\n",
       "    .dataframe tbody tr th {\n",
       "        vertical-align: top;\n",
       "    }\n",
       "\n",
       "    .dataframe thead th {\n",
       "        text-align: right;\n",
       "    }\n",
       "</style>\n",
       "<table border=\"1\" class=\"dataframe\">\n",
       "  <thead>\n",
       "    <tr style=\"text-align: right;\">\n",
       "      <th></th>\n",
       "      <th>Feature</th>\n",
       "      <th>Linear_Co-efficient</th>\n",
       "    </tr>\n",
       "  </thead>\n",
       "  <tbody>\n",
       "    <tr>\n",
       "      <td>0</td>\n",
       "      <td>accommodates</td>\n",
       "      <td>0.027301</td>\n",
       "    </tr>\n",
       "    <tr>\n",
       "      <td>1</td>\n",
       "      <td>bathrooms</td>\n",
       "      <td>0.090870</td>\n",
       "    </tr>\n",
       "    <tr>\n",
       "      <td>2</td>\n",
       "      <td>bedrooms</td>\n",
       "      <td>0.054584</td>\n",
       "    </tr>\n",
       "    <tr>\n",
       "      <td>3</td>\n",
       "      <td>beds</td>\n",
       "      <td>-0.006032</td>\n",
       "    </tr>\n",
       "    <tr>\n",
       "      <td>4</td>\n",
       "      <td>minimum_nights</td>\n",
       "      <td>-0.001094</td>\n",
       "    </tr>\n",
       "    <tr>\n",
       "      <td>5</td>\n",
       "      <td>number_of_reviews</td>\n",
       "      <td>-0.000904</td>\n",
       "    </tr>\n",
       "    <tr>\n",
       "      <td>6</td>\n",
       "      <td>review_scores_rating</td>\n",
       "      <td>-0.001864</td>\n",
       "    </tr>\n",
       "    <tr>\n",
       "      <td>7</td>\n",
       "      <td>number_of_bookings</td>\n",
       "      <td>-0.000284</td>\n",
       "    </tr>\n",
       "    <tr>\n",
       "      <td>8</td>\n",
       "      <td>bedroom_bath_ratio</td>\n",
       "      <td>-0.000132</td>\n",
       "    </tr>\n",
       "    <tr>\n",
       "      <td>9</td>\n",
       "      <td>room_type_Hotel room</td>\n",
       "      <td>-0.049032</td>\n",
       "    </tr>\n",
       "    <tr>\n",
       "      <td>10</td>\n",
       "      <td>room_type_Private room</td>\n",
       "      <td>-0.247567</td>\n",
       "    </tr>\n",
       "    <tr>\n",
       "      <td>11</td>\n",
       "      <td>room_type_Shared room</td>\n",
       "      <td>-0.515800</td>\n",
       "    </tr>\n",
       "    <tr>\n",
       "      <td>12</td>\n",
       "      <td>neighbourhood_Balcones Civic Association</td>\n",
       "      <td>0.028062</td>\n",
       "    </tr>\n",
       "    <tr>\n",
       "      <td>13</td>\n",
       "      <td>neighbourhood_Barton Creek</td>\n",
       "      <td>0.171730</td>\n",
       "    </tr>\n",
       "    <tr>\n",
       "      <td>14</td>\n",
       "      <td>neighbourhood_Brentwood</td>\n",
       "      <td>0.181167</td>\n",
       "    </tr>\n",
       "    <tr>\n",
       "      <td>15</td>\n",
       "      <td>neighbourhood_Cherry Creek</td>\n",
       "      <td>0.006857</td>\n",
       "    </tr>\n",
       "    <tr>\n",
       "      <td>16</td>\n",
       "      <td>neighbourhood_Circle C</td>\n",
       "      <td>0.129526</td>\n",
       "    </tr>\n",
       "    <tr>\n",
       "      <td>17</td>\n",
       "      <td>neighbourhood_Copperfield</td>\n",
       "      <td>-0.017319</td>\n",
       "    </tr>\n",
       "    <tr>\n",
       "      <td>18</td>\n",
       "      <td>neighbourhood_Crestview</td>\n",
       "      <td>0.007903</td>\n",
       "    </tr>\n",
       "    <tr>\n",
       "      <td>19</td>\n",
       "      <td>neighbourhood_Downtown</td>\n",
       "      <td>0.358226</td>\n",
       "    </tr>\n",
       "    <tr>\n",
       "      <td>20</td>\n",
       "      <td>neighbourhood_East Downtown</td>\n",
       "      <td>0.209751</td>\n",
       "    </tr>\n",
       "    <tr>\n",
       "      <td>21</td>\n",
       "      <td>neighbourhood_East Riverside</td>\n",
       "      <td>0.086211</td>\n",
       "    </tr>\n",
       "    <tr>\n",
       "      <td>22</td>\n",
       "      <td>neighbourhood_Gracywoods</td>\n",
       "      <td>0.145408</td>\n",
       "    </tr>\n",
       "    <tr>\n",
       "      <td>23</td>\n",
       "      <td>neighbourhood_Highland</td>\n",
       "      <td>0.190591</td>\n",
       "    </tr>\n",
       "    <tr>\n",
       "      <td>24</td>\n",
       "      <td>neighbourhood_Lamplight Village</td>\n",
       "      <td>-0.071328</td>\n",
       "    </tr>\n",
       "    <tr>\n",
       "      <td>25</td>\n",
       "      <td>neighbourhood_Long Canyon</td>\n",
       "      <td>0.128589</td>\n",
       "    </tr>\n",
       "    <tr>\n",
       "      <td>26</td>\n",
       "      <td>neighbourhood_MLK &amp; 183</td>\n",
       "      <td>0.031072</td>\n",
       "    </tr>\n",
       "    <tr>\n",
       "      <td>27</td>\n",
       "      <td>neighbourhood_McKinney</td>\n",
       "      <td>-0.038394</td>\n",
       "    </tr>\n",
       "    <tr>\n",
       "      <td>28</td>\n",
       "      <td>neighbourhood_Montopolis</td>\n",
       "      <td>0.111381</td>\n",
       "    </tr>\n",
       "    <tr>\n",
       "      <td>29</td>\n",
       "      <td>neighbourhood_Mueller</td>\n",
       "      <td>0.068768</td>\n",
       "    </tr>\n",
       "    <tr>\n",
       "      <td>30</td>\n",
       "      <td>neighbourhood_North Loop</td>\n",
       "      <td>0.064441</td>\n",
       "    </tr>\n",
       "    <tr>\n",
       "      <td>31</td>\n",
       "      <td>neighbourhood_Northwest Hills</td>\n",
       "      <td>0.126784</td>\n",
       "    </tr>\n",
       "    <tr>\n",
       "      <td>32</td>\n",
       "      <td>neighbourhood_Oak Hill</td>\n",
       "      <td>0.059882</td>\n",
       "    </tr>\n",
       "    <tr>\n",
       "      <td>33</td>\n",
       "      <td>neighbourhood_Old West Austin</td>\n",
       "      <td>0.311508</td>\n",
       "    </tr>\n",
       "    <tr>\n",
       "      <td>34</td>\n",
       "      <td>neighbourhood_SW Williamson Co.</td>\n",
       "      <td>-0.116939</td>\n",
       "    </tr>\n",
       "    <tr>\n",
       "      <td>35</td>\n",
       "      <td>neighbourhood_Scofield Ridge</td>\n",
       "      <td>-0.062560</td>\n",
       "    </tr>\n",
       "    <tr>\n",
       "      <td>36</td>\n",
       "      <td>neighbourhood_South Manchaca</td>\n",
       "      <td>0.058194</td>\n",
       "    </tr>\n",
       "    <tr>\n",
       "      <td>37</td>\n",
       "      <td>neighbourhood_Steiner Ranch</td>\n",
       "      <td>0.101140</td>\n",
       "    </tr>\n",
       "    <tr>\n",
       "      <td>38</td>\n",
       "      <td>neighbourhood_Travis Heights</td>\n",
       "      <td>0.252255</td>\n",
       "    </tr>\n",
       "    <tr>\n",
       "      <td>39</td>\n",
       "      <td>neighbourhood_University Hills</td>\n",
       "      <td>-0.032464</td>\n",
       "    </tr>\n",
       "    <tr>\n",
       "      <td>40</td>\n",
       "      <td>neighbourhood_University of Texas</td>\n",
       "      <td>0.152834</td>\n",
       "    </tr>\n",
       "    <tr>\n",
       "      <td>41</td>\n",
       "      <td>neighbourhood_Upper Boggy Creek</td>\n",
       "      <td>0.193637</td>\n",
       "    </tr>\n",
       "    <tr>\n",
       "      <td>42</td>\n",
       "      <td>neighbourhood_Westlake Hills</td>\n",
       "      <td>0.315344</td>\n",
       "    </tr>\n",
       "  </tbody>\n",
       "</table>\n",
       "</div>"
      ],
      "text/plain": [
       "                                     Feature  Linear_Co-efficient\n",
       "0                               accommodates             0.027301\n",
       "1                                  bathrooms             0.090870\n",
       "2                                   bedrooms             0.054584\n",
       "3                                       beds            -0.006032\n",
       "4                             minimum_nights            -0.001094\n",
       "5                          number_of_reviews            -0.000904\n",
       "6                       review_scores_rating            -0.001864\n",
       "7                         number_of_bookings            -0.000284\n",
       "8                         bedroom_bath_ratio            -0.000132\n",
       "9                       room_type_Hotel room            -0.049032\n",
       "10                    room_type_Private room            -0.247567\n",
       "11                     room_type_Shared room            -0.515800\n",
       "12  neighbourhood_Balcones Civic Association             0.028062\n",
       "13                neighbourhood_Barton Creek             0.171730\n",
       "14                   neighbourhood_Brentwood             0.181167\n",
       "15                neighbourhood_Cherry Creek             0.006857\n",
       "16                    neighbourhood_Circle C             0.129526\n",
       "17                 neighbourhood_Copperfield            -0.017319\n",
       "18                   neighbourhood_Crestview             0.007903\n",
       "19                    neighbourhood_Downtown             0.358226\n",
       "20               neighbourhood_East Downtown             0.209751\n",
       "21              neighbourhood_East Riverside             0.086211\n",
       "22                  neighbourhood_Gracywoods             0.145408\n",
       "23                    neighbourhood_Highland             0.190591\n",
       "24           neighbourhood_Lamplight Village            -0.071328\n",
       "25                 neighbourhood_Long Canyon             0.128589\n",
       "26                   neighbourhood_MLK & 183             0.031072\n",
       "27                    neighbourhood_McKinney            -0.038394\n",
       "28                  neighbourhood_Montopolis             0.111381\n",
       "29                     neighbourhood_Mueller             0.068768\n",
       "30                  neighbourhood_North Loop             0.064441\n",
       "31             neighbourhood_Northwest Hills             0.126784\n",
       "32                    neighbourhood_Oak Hill             0.059882\n",
       "33             neighbourhood_Old West Austin             0.311508\n",
       "34           neighbourhood_SW Williamson Co.            -0.116939\n",
       "35              neighbourhood_Scofield Ridge            -0.062560\n",
       "36              neighbourhood_South Manchaca             0.058194\n",
       "37               neighbourhood_Steiner Ranch             0.101140\n",
       "38              neighbourhood_Travis Heights             0.252255\n",
       "39            neighbourhood_University Hills            -0.032464\n",
       "40         neighbourhood_University of Texas             0.152834\n",
       "41           neighbourhood_Upper Boggy Creek             0.193637\n",
       "42              neighbourhood_Westlake Hills             0.315344"
      ]
     },
     "execution_count": 111,
     "metadata": {},
     "output_type": "execute_result"
    }
   ],
   "source": [
    "v = pd.DataFrame(model.coef_, index=['Linear_Co-efficient']).transpose()\n",
    "w = pd.DataFrame(X.columns, columns=['Feature'])\n",
    "\n",
    "coeff_df = pd.concat([w, v], axis=1, join='inner')\n",
    "coeff_df"
   ]
  },
  {
   "cell_type": "markdown",
   "metadata": {},
   "source": [
    "My model has many input variables. I will try LASSO linear regression for feature selection to fine-tune my model. This apart from preventing overfitting will also reduce the coefficients of less important variables to zero."
   ]
  },
  {
   "cell_type": "markdown",
   "metadata": {},
   "source": [
    "# LASSO LINEAR REGRESSION"
   ]
  },
  {
   "cell_type": "markdown",
   "metadata": {},
   "source": [
    "It is important to standardize the features by removing the mean and scaling to unit variance. The L1 (Lasso) and L2 (Ridge) regularizers of linear models assume that all features are centered around 0 and have variance in the same order. If a feature has a variance that is orders of magnitude larger that others, it might dominate the objective function and make the estimator unable to learn from other features correctly as expected."
   ]
  },
  {
   "cell_type": "code",
   "execution_count": null,
   "metadata": {
    "scrolled": true
   },
   "outputs": [],
   "source": []
  },
  {
   "cell_type": "markdown",
   "metadata": {},
   "source": [
    "Before building the models, let's first scale data. Lasso and Ridge put constraints on the size of the coefficients associated to each variable. But, this value depends on the magnitude of each variable and it is therefore necessary to center and reduce, or standardize, the variables."
   ]
  },
  {
   "cell_type": "code",
   "execution_count": 112,
   "metadata": {},
   "outputs": [],
   "source": [
    "# Scale data\n",
    "scaler = StandardScaler()\n",
    "scaler.fit(X)\n",
    "X = scaler.transform(X)"
   ]
  },
  {
   "cell_type": "code",
   "execution_count": null,
   "metadata": {},
   "outputs": [],
   "source": []
  },
  {
   "cell_type": "code",
   "execution_count": 113,
   "metadata": {},
   "outputs": [
    {
     "name": "stdout",
     "output_type": "stream",
     "text": [
      "lasso best parameters: {'alpha': 0.1}\n",
      "lasso score: 0.3335253889987504\n",
      "lasso MSE: 0.14470419659649592\n",
      "lasso best estimator coef: [ 0.08615202  0.03742744  0.03201057  0.         -0.         -0.\n",
      " -0.         -0.         -0.          0.         -0.04502505 -0.\n",
      " -0.          0.          0.         -0.          0.         -0.\n",
      " -0.          0.          0.         -0.         -0.         -0.\n",
      " -0.          0.         -0.         -0.         -0.         -0.\n",
      " -0.         -0.         -0.          0.         -0.         -0.\n",
      " -0.          0.          0.         -0.         -0.         -0.\n",
      "  0.        ]\n"
     ]
    }
   ],
   "source": [
    "# Split the dataset into the training set and test set\n",
    "# 80% of the data will be used for training and 20% will be used for testing\n",
    "xTrain, xTest, yTrain, yTest = train_test_split(X, Y, \n",
    "                                                test_size = 0.2, random_state = 0)\n",
    "\n",
    "parameters = {'alpha': np.concatenate((np.arange(0.1,2,0.1), \n",
    "                                       np.arange(2, 5, 0.5), np.arange(5, 25, 1)))}\n",
    "\n",
    "lasso = linear_model.Lasso()\n",
    "gridlasso = GridSearchCV(lasso, parameters, scoring ='r2')\n",
    "\n",
    "# Fit models and print the best parameters, R-squared scores, MSE, and coefficients\n",
    "gridlasso.fit(xTrain, yTrain)\n",
    "\n",
    "print(\"lasso best parameters:\", gridlasso.best_params_)\n",
    "print(\"lasso score:\", gridlasso.score(xTest, yTest))\n",
    "print(\"lasso MSE:\", mean_squared_error(yTest, gridlasso.predict(xTest)))\n",
    "print(\"lasso best estimator coef:\", gridlasso.best_estimator_.coef_)"
   ]
  },
  {
   "cell_type": "code",
   "execution_count": 119,
   "metadata": {},
   "outputs": [
    {
     "ename": "TypeError",
     "evalue": "first argument must be an iterable of pandas objects, you passed an object of type \"DataFrame\"",
     "output_type": "error",
     "traceback": [
      "\u001b[0;31m---------------------------------------------------------------------------\u001b[0m",
      "\u001b[0;31mTypeError\u001b[0m                                 Traceback (most recent call last)",
      "\u001b[0;32m<ipython-input-119-db3eee69d258>\u001b[0m in \u001b[0;36m<module>\u001b[0;34m\u001b[0m\n\u001b[1;32m      4\u001b[0m                              \"Lasso_Cofficients\":np.transpose(gridlasso.best_estimator_.coef_)})\n\u001b[1;32m      5\u001b[0m \u001b[0;34m\u001b[0m\u001b[0m\n\u001b[0;32m----> 6\u001b[0;31m \u001b[0mcoeff_df\u001b[0m \u001b[0;34m=\u001b[0m \u001b[0mpd\u001b[0m\u001b[0;34m.\u001b[0m\u001b[0mconcat\u001b[0m\u001b[0;34m(\u001b[0m\u001b[0mcoeff_df\u001b[0m\u001b[0;34m,\u001b[0m \u001b[0mlasso_coef\u001b[0m\u001b[0;34m)\u001b[0m\u001b[0;34m\u001b[0m\u001b[0;34m\u001b[0m\u001b[0m\n\u001b[0m\u001b[1;32m      7\u001b[0m \u001b[0mcoeff_df\u001b[0m\u001b[0;34m\u001b[0m\u001b[0;34m\u001b[0m\u001b[0m\n",
      "\u001b[0;32m~/opt/anaconda3/lib/python3.7/site-packages/pandas/core/reshape/concat.py\u001b[0m in \u001b[0;36mconcat\u001b[0;34m(objs, axis, join, join_axes, ignore_index, keys, levels, names, verify_integrity, sort, copy)\u001b[0m\n\u001b[1;32m    253\u001b[0m         \u001b[0mverify_integrity\u001b[0m\u001b[0;34m=\u001b[0m\u001b[0mverify_integrity\u001b[0m\u001b[0;34m,\u001b[0m\u001b[0;34m\u001b[0m\u001b[0;34m\u001b[0m\u001b[0m\n\u001b[1;32m    254\u001b[0m         \u001b[0mcopy\u001b[0m\u001b[0;34m=\u001b[0m\u001b[0mcopy\u001b[0m\u001b[0;34m,\u001b[0m\u001b[0;34m\u001b[0m\u001b[0;34m\u001b[0m\u001b[0m\n\u001b[0;32m--> 255\u001b[0;31m         \u001b[0msort\u001b[0m\u001b[0;34m=\u001b[0m\u001b[0msort\u001b[0m\u001b[0;34m,\u001b[0m\u001b[0;34m\u001b[0m\u001b[0;34m\u001b[0m\u001b[0m\n\u001b[0m\u001b[1;32m    256\u001b[0m     )\n\u001b[1;32m    257\u001b[0m \u001b[0;34m\u001b[0m\u001b[0m\n",
      "\u001b[0;32m~/opt/anaconda3/lib/python3.7/site-packages/pandas/core/reshape/concat.py\u001b[0m in \u001b[0;36m__init__\u001b[0;34m(self, objs, axis, join, join_axes, keys, levels, names, ignore_index, verify_integrity, copy, sort)\u001b[0m\n\u001b[1;32m    282\u001b[0m                 \u001b[0;34m\"first argument must be an iterable of pandas \"\u001b[0m\u001b[0;34m\u001b[0m\u001b[0;34m\u001b[0m\u001b[0m\n\u001b[1;32m    283\u001b[0m                 \u001b[0;34m\"objects, you passed an object of type \"\u001b[0m\u001b[0;34m\u001b[0m\u001b[0;34m\u001b[0m\u001b[0m\n\u001b[0;32m--> 284\u001b[0;31m                 \u001b[0;34m'\"{name}\"'\u001b[0m\u001b[0;34m.\u001b[0m\u001b[0mformat\u001b[0m\u001b[0;34m(\u001b[0m\u001b[0mname\u001b[0m\u001b[0;34m=\u001b[0m\u001b[0mtype\u001b[0m\u001b[0;34m(\u001b[0m\u001b[0mobjs\u001b[0m\u001b[0;34m)\u001b[0m\u001b[0;34m.\u001b[0m\u001b[0m__name__\u001b[0m\u001b[0;34m)\u001b[0m\u001b[0;34m\u001b[0m\u001b[0;34m\u001b[0m\u001b[0m\n\u001b[0m\u001b[1;32m    285\u001b[0m             )\n\u001b[1;32m    286\u001b[0m \u001b[0;34m\u001b[0m\u001b[0m\n",
      "\u001b[0;31mTypeError\u001b[0m: first argument must be an iterable of pandas objects, you passed an object of type \"DataFrame\""
     ]
    }
   ],
   "source": [
    "#v = pd.DataFrame(gridlasso.best_estimator_.coef_, index=['Lass_Co-efficient']).transpose()\n",
    "\n",
    "lasso_coef = pd.DataFrame({\"Feature\":0, \n",
    "                             \"Lasso_Cofficients\":np.transpose(gridlasso.best_estimator_.coef_)})\n",
    "\n",
    "coeff_df = pd.concat(coeff_df, lasso_coef)\n",
    "coeff_df"
   ]
  },
  {
   "cell_type": "code",
   "execution_count": null,
   "metadata": {},
   "outputs": [],
   "source": []
  },
  {
   "cell_type": "markdown",
   "metadata": {},
   "source": [
    "# RIDGE LINEAR REGRESSION"
   ]
  },
  {
   "cell_type": "markdown",
   "metadata": {},
   "source": []
  }
 ],
 "metadata": {
  "kernelspec": {
   "display_name": "Python 3",
   "language": "python",
   "name": "python3"
  },
  "language_info": {
   "codemirror_mode": {
    "name": "ipython",
    "version": 3
   },
   "file_extension": ".py",
   "mimetype": "text/x-python",
   "name": "python",
   "nbconvert_exporter": "python",
   "pygments_lexer": "ipython3",
   "version": "3.7.4"
  }
 },
 "nbformat": 4,
 "nbformat_minor": 2
}
