{
 "cells": [
  {
   "cell_type": "code",
   "execution_count": null,
   "metadata": {},
   "outputs": [],
   "source": [
    "coef_array = []\n",
    "for model in ridge_scores['estimator']:\n",
    "    coef_array.append(model.coef_)\n",
    "    \n",
    "average_coef = np.average(coef_array, axis=0)\n",
    "print(average_coef)"
   ]
  },
  {
   "cell_type": "code",
   "execution_count": null,
   "metadata": {},
   "outputs": [],
   "source": [
    "columns = np.array(df[df.columns.difference(['price'])].columns)\n",
    "coef_df = pd.DataFrame({'coefficients':average_coef, 'features':columns}, index=columns)\n",
    "\n",
    "coef_df.iplot(\n",
    "    kind='bar',\n",
    "    orientation='h',\n",
    "    layout=dict(\n",
    "        height=1200,\n",
    "        yaxis=dict(title='Features'),\n",
    "        xaxis=dict(title='Coefficient Values'),\n",
    "        title='Coefficient Values for All Features',\n",
    "        showlegend=False\n",
    "    )\n",
    ")"
   ]
  },
  {
   "cell_type": "markdown",
   "metadata": {},
   "source": [
    "Ridge and Lasso build on the linear model, but their fundamental difference is regularization. The goal of these methods is to improve the loss function so that it depends not only on the sum of the squared differences but also on the regression coefficients.\n",
    "\n",
    "One of the main problems in the construction of such models is the correct selection of the regularization parameter. Сomparing to linear regression, Ridge and Lasso models are more resistant to outliers and the spread of data. Overall, their main purpose is to prevent overfitting.\n",
    "\n",
    "The main difference between Ridge regression and Lasso is how they assign a penalty term to the coefficients. I will build the Ridge model first."
   ]
  },
  {
   "cell_type": "markdown",
   "metadata": {},
   "source": [
    "Next I will use the cross_val_predict method to get the predicted y values for the test fold and plot the results against the actual values."
   ]
  },
  {
   "cell_type": "code",
   "execution_count": null,
   "metadata": {},
   "outputs": [],
   "source": [
    "# Perform 5 fold cross validation on the data\n",
    "predicted = cross_val_predict(linear_regressor, X, y, cv=5, n_jobs=-1, verbose=2)"
   ]
  },
  {
   "cell_type": "code",
   "execution_count": null,
   "metadata": {},
   "outputs": [],
   "source": [
    "# Get the residuals \n",
    "residuals = y - predicted\n",
    "\n",
    "# Plot the residuals against the fitted values\n",
    "data = go.Scatter(\n",
    "    x = predicted, \n",
    "    y = residuals, \n",
    "    mode = 'markers'\n",
    ")\n",
    "\n",
    "layout = go.Layout(\n",
    "    title='Fitted Values vs. Residuals Plot',\n",
    "    xaxis=dict(\n",
    "        title='Fitted',\n",
    "    ),\n",
    "    yaxis=dict(\n",
    "        title='Residuals',\n",
    "    )\n",
    ")\n",
    "\n",
    "fig = go.Figure(data=data, layout=layout)   \n",
    "iplot(fig)"
   ]
  },
  {
   "cell_type": "markdown",
   "metadata": {},
   "source": [
    "A fitted versus residual plot helps to validate that the residuals are randomly distributed. The placement of the points should be random and no pattern (increase/decrease in values of residuals) should be significantly visible. This seems to be the case in the plot above but there are some outliers. I will plot a histogram of the residuals to get another perspective of it's distribution."
   ]
  },
  {
   "cell_type": "code",
   "execution_count": null,
   "metadata": {},
   "outputs": [],
   "source": [
    "# Plot the distribution of residuals\n",
    "data=go.Histogram(\n",
    "    x=residuals, \n",
    "    xbins=dict(\n",
    "        start=np.min(residuals), \n",
    "        size=0.11, \n",
    "        end=np.max(residuals)\n",
    "    )\n",
    ")\n",
    "\n",
    "layout = go.Layout(\n",
    "    title='Distribution of Residuals',\n",
    "    xaxis=dict(\n",
    "        title='Residuals',\n",
    "    ),\n",
    "    yaxis=dict(\n",
    "        title='Frequency',\n",
    "    )\n",
    ")\n",
    "\n",
    "fig = go.Figure(data=data, layout=layout)   \n",
    "iplot(fig)"
   ]
  },
  {
   "cell_type": "markdown",
   "metadata": {},
   "source": [
    "It looks like the residuals are normally distributed."
   ]
  },
  {
   "cell_type": "code",
   "execution_count": null,
   "metadata": {},
   "outputs": [],
   "source": []
  }
 ],
 "metadata": {
  "kernelspec": {
   "display_name": "Python 3",
   "language": "python",
   "name": "python3"
  },
  "language_info": {
   "codemirror_mode": {
    "name": "ipython",
    "version": 3
   },
   "file_extension": ".py",
   "mimetype": "text/x-python",
   "name": "python",
   "nbconvert_exporter": "python",
   "pygments_lexer": "ipython3",
   "version": "3.7.4"
  }
 },
 "nbformat": 4,
 "nbformat_minor": 2
}
